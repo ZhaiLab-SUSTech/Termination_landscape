{
 "cells": [
  {
   "cell_type": "code",
   "execution_count": 1,
   "source": [
    "%config InlineBackend.figure_format = 'retina'\n",
    "\n",
    "from matplotlib import pyplot as plt\n",
    "import matplotlib.ticker as ticker\n",
    "import matplotlib.font_manager as font_manager\n",
    "import matplotlib as mpl\n",
    "import matplotlib.patches as mp\n",
    "import seaborn as sns\n",
    "\n",
    "# 设置全局字体\n",
    "font_dirs = ['/public/home/mowp/test/fonts/']\n",
    "font_files = font_manager.findSystemFonts(fontpaths=font_dirs)\n",
    "\n",
    "for font_file in font_files:\n",
    "    font_manager.fontManager.addfont(font_file)\n",
    "\n",
    "plt.rcParams['font.family'] = 'Arial'\n",
    "plt.rcParams['font.size'] = 12\n",
    "plt.rcParams['svg.fonttype'] = 'none'\n"
   ],
   "outputs": [],
   "metadata": {
    "ExecuteTime": {
     "end_time": "2021-07-09T02:10:47.298269Z",
     "start_time": "2021-07-09T02:10:45.741248Z"
    },
    "execution": {
     "iopub.execute_input": "2021-06-05T04:45:45.396126Z",
     "iopub.status.busy": "2021-06-05T04:45:45.395521Z",
     "iopub.status.idle": "2021-06-05T04:45:46.923172Z",
     "shell.execute_reply": "2021-06-05T04:45:46.922415Z",
     "shell.execute_reply.started": "2021-06-05T04:45:45.395803Z"
    }
   }
  },
  {
   "cell_type": "code",
   "execution_count": 2,
   "source": [
    "import pandas as pd\n",
    "import numpy as np\n",
    "import pybedtools\n",
    "import pyranges as pr\n",
    "from scipy import stats"
   ],
   "outputs": [],
   "metadata": {
    "ExecuteTime": {
     "end_time": "2021-07-09T02:10:48.864704Z",
     "start_time": "2021-07-09T02:10:47.301438Z"
    },
    "execution": {
     "iopub.execute_input": "2021-06-05T04:45:46.924659Z",
     "iopub.status.busy": "2021-06-05T04:45:46.924428Z",
     "iopub.status.idle": "2021-06-05T04:45:47.959408Z",
     "shell.execute_reply": "2021-06-05T04:45:47.958495Z",
     "shell.execute_reply.started": "2021-06-05T04:45:46.924628Z"
    }
   }
  },
  {
   "cell_type": "code",
   "execution_count": 3,
   "source": [
    "# get last pa sites\n",
    "# get single polya site gene\n",
    "\n",
    "last_pa_bed = '/public/home/mowp/workspace/termination/cbRNA_pool/polya_sites/cbRNA.last_polya_cluster_summit.bed'\n",
    "last_pa = pr.read_bed(last_pa_bed, as_df=True)\n",
    "last_pa.columns = ['Chromosome', 'Start', 'End', 'Name', 'Score', 'Strand', 'ratio']\n",
    "last_pa.loc[:, 'Chromosome'] = last_pa.loc[:, 'Chromosome'].astype('str')\n",
    "\n",
    "mask = last_pa.loc[:, 'Name'].str.contains('_1')\n",
    "single_pa_site_gene = last_pa[mask].loc[:, 'Name'].map(lambda x: x.split('_')[0])\n",
    "\n",
    "last_pa['Name'] = last_pa['Name'].map(lambda x: x.split('_')[0])\n",
    "last_pa = last_pa.set_index(['Name'])\n",
    "\n",
    "\n",
    "gene_model_bed = '/public/home/mowp/db/Arabidopsis_thaliana/isoform/araport11.gene.bed'\n",
    "gene_model = pr.read_bed(gene_model_bed, as_df=True)\n",
    "\n",
    "# get protein-coding gene\n",
    "\n",
    "protein_coding_bed = '/public/home/mowp/db/Arabidopsis_thaliana/bed/Araport11_protein_coding.201606.bed'\n",
    "protein_coding = pr.read_bed(protein_coding_bed, as_df=True)\n",
    "\n",
    "protein_coding_gene = set(protein_coding['Name'].map(lambda x: x.split('.')[0]))"
   ],
   "outputs": [],
   "metadata": {
    "ExecuteTime": {
     "end_time": "2021-07-09T02:10:49.310803Z",
     "start_time": "2021-07-09T02:10:48.868351Z"
    },
    "execution": {
     "iopub.execute_input": "2021-06-05T04:45:47.961469Z",
     "iopub.status.busy": "2021-06-05T04:45:47.961224Z",
     "iopub.status.idle": "2021-06-05T04:45:48.394074Z",
     "shell.execute_reply": "2021-06-05T04:45:48.392981Z",
     "shell.execute_reply.started": "2021-06-05T04:45:47.961438Z"
    }
   }
  },
  {
   "cell_type": "code",
   "execution_count": 4,
   "source": [
    "def get_target_site(site_type, gene_id):\n",
    "    if site_type == 'PAS':\n",
    "        # 获取基因PAS\n",
    "        return last_pa.at[gene_id, 'End']\n",
    "    elif site_type == 'TSS':\n",
    "        # 获取基因TSS\n",
    "        # array(['1', 3629, 5899, '.', '+'], dtype=object)\n",
    "        try:\n",
    "            values = tss_bed.loc[gene_id, :].values\n",
    "            if values[4] == '+':\n",
    "                return values[1]\n",
    "            else:\n",
    "                return values[2]\n",
    "        except KeyError:\n",
    "            values = gene_model.loc[gene_id, :].values\n",
    "            if values[4] == '+':\n",
    "                return values[1]\n",
    "            else:\n",
    "                return values[2]\n",
    "            \n",
    "    elif site_type == 'TES':\n",
    "        # 获取基因TES\n",
    "        # array(['1', 3629, 5899, '.', '+'], dtype=object)\n",
    "        return int(merge_read_through_len.query('gene_id == @gene_id')['tts'])\n",
    "    else:\n",
    "        raise KeyError"
   ],
   "outputs": [],
   "metadata": {
    "ExecuteTime": {
     "end_time": "2021-07-09T02:10:49.321478Z",
     "start_time": "2021-07-09T02:10:49.313553Z"
    },
    "execution": {
     "iopub.execute_input": "2021-06-05T04:45:48.396114Z",
     "iopub.status.busy": "2021-06-05T04:45:48.395864Z",
     "iopub.status.idle": "2021-06-05T04:45:48.404373Z",
     "shell.execute_reply": "2021-06-05T04:45:48.403674Z",
     "shell.execute_reply.started": "2021-06-05T04:45:48.396081Z"
    }
   }
  },
  {
   "cell_type": "code",
   "execution_count": 5,
   "source": [
    "%store -r cb_pool_read_through_len"
   ],
   "outputs": [],
   "metadata": {
    "ExecuteTime": {
     "end_time": "2021-07-09T02:10:49.410778Z",
     "start_time": "2021-07-09T02:10:49.401830Z"
    },
    "execution": {
     "iopub.execute_input": "2021-06-05T04:45:48.405752Z",
     "iopub.status.busy": "2021-06-05T04:45:48.405534Z",
     "iopub.status.idle": "2021-06-05T04:45:48.415427Z",
     "shell.execute_reply": "2021-06-05T04:45:48.414649Z",
     "shell.execute_reply.started": "2021-06-05T04:45:48.405723Z"
    }
   }
  },
  {
   "cell_type": "code",
   "execution_count": 6,
   "source": [
    "all_gene = set(cb_pool_read_through_len['gene_id'])"
   ],
   "outputs": [],
   "metadata": {
    "ExecuteTime": {
     "end_time": "2021-07-09T02:10:50.100744Z",
     "start_time": "2021-07-09T02:10:50.093818Z"
    },
    "execution": {
     "iopub.execute_input": "2021-06-05T04:45:48.416567Z",
     "iopub.status.busy": "2021-06-05T04:45:48.416344Z",
     "iopub.status.idle": "2021-06-05T04:45:48.422513Z",
     "shell.execute_reply": "2021-06-05T04:45:48.421830Z",
     "shell.execute_reply.started": "2021-06-05T04:45:48.416538Z"
    }
   }
  },
  {
   "cell_type": "code",
   "execution_count": 7,
   "source": [
    "def bed_intersect(a, b):\n",
    "    intersect = a.intersect(b)\n",
    "    return len(intersect)"
   ],
   "outputs": [],
   "metadata": {
    "ExecuteTime": {
     "end_time": "2021-07-09T02:10:52.089800Z",
     "start_time": "2021-07-09T02:10:52.085098Z"
    },
    "execution": {
     "iopub.execute_input": "2021-06-05T04:45:48.520424Z",
     "iopub.status.busy": "2021-06-05T04:45:48.520193Z",
     "iopub.status.idle": "2021-06-05T04:45:48.523893Z",
     "shell.execute_reply": "2021-06-05T04:45:48.523222Z",
     "shell.execute_reply.started": "2021-06-05T04:45:48.520395Z"
    }
   }
  },
  {
   "cell_type": "markdown",
   "source": [
    "# get downstream region"
   ],
   "metadata": {
    "heading_collapsed": "true"
   }
  },
  {
   "cell_type": "code",
   "execution_count": 8,
   "source": [
    "upstream_list, downstream_list, gene_body_list = [], [], []\n",
    "distance = 1000  # 1000\n",
    "for item in gene_model.values:\n",
    "    chrom, start, end, gene_id, _, strand = item\n",
    "    if gene_id not in all_gene:\n",
    "        continue\n",
    "\n",
    "    pas = get_target_site('PAS', gene_id)\n",
    "    if gene_id not in protein_coding_gene:\n",
    "        continue\n",
    "    if start-distance < 0:\n",
    "        continue\n",
    "    if strand == '+':\n",
    "        upstream_list.append(' '.join((chrom, str(start-distance), str(start-50), gene_id)))\n",
    "        downstream_list.append(' '.join((chrom, str(pas+50), str(pas+distance), gene_id)))\n",
    "    else:\n",
    "        upstream_list.append(' '.join((chrom, str(end+50), str(end+distance), gene_id)))\n",
    "        downstream_list.append(' '.join((chrom, str(pas-distance), str(pas-50), gene_id)))\n",
    "\n",
    "    gene_body_list.append(' '.join((chrom, str(start), str(end), gene_id)))\n"
   ],
   "outputs": [],
   "metadata": {
    "ExecuteTime": {
     "end_time": "2021-07-09T02:10:56.158511Z",
     "start_time": "2021-07-09T02:10:55.705434Z"
    },
    "execution": {
     "iopub.execute_input": "2021-05-29T04:04:50.723198Z",
     "iopub.status.busy": "2021-05-29T04:04:50.722802Z",
     "iopub.status.idle": "2021-05-29T04:04:51.665979Z",
     "shell.execute_reply": "2021-05-29T04:04:51.665164Z",
     "shell.execute_reply.started": "2021-05-29T04:04:50.723149Z"
    }
   }
  },
  {
   "cell_type": "code",
   "execution_count": 9,
   "source": [
    "upstream_list = pybedtools.BedTool('\\n'.join(upstream_list), from_string=True)\n",
    "downstream_list = pybedtools.BedTool('\\n'.join(downstream_list), from_string=True)\n",
    "gene_body_list = pybedtools.BedTool('\\n'.join(gene_body_list), from_string=True)"
   ],
   "outputs": [],
   "metadata": {
    "ExecuteTime": {
     "end_time": "2021-07-09T02:10:56.780418Z",
     "start_time": "2021-07-09T02:10:56.706030Z"
    },
    "execution": {
     "iopub.execute_input": "2021-05-29T04:04:51.674143Z",
     "iopub.status.busy": "2021-05-29T04:04:51.673768Z",
     "iopub.status.idle": "2021-05-29T04:04:51.850289Z",
     "shell.execute_reply": "2021-05-29T04:04:51.849330Z",
     "shell.execute_reply.started": "2021-05-29T04:04:51.674092Z"
    }
   }
  },
  {
   "cell_type": "markdown",
   "source": [
    "# downstream with pre-tRNA"
   ],
   "metadata": {}
  },
  {
   "cell_type": "markdown",
   "source": [
    "## different kind of gene"
   ],
   "metadata": {}
  },
  {
   "cell_type": "code",
   "execution_count": 10,
   "source": [
    "upstream_list, downstream_list, gene_body_list = [], [], []\n",
    "distance = 200\n",
    "for item in gene_model.values:\n",
    "    chrom, start, end, gene_id, _, strand = item\n",
    "    if gene_id not in all_gene:\n",
    "        continue\n",
    "\n",
    "    pas = get_target_site('PAS', gene_id)\n",
    "    if gene_id not in protein_coding_gene:\n",
    "        continue\n",
    "    if start-distance < 0:\n",
    "        continue\n",
    "    if strand == '+':\n",
    "        upstream_list.append(' '.join((chrom, str(start-distance), str(start-1), gene_id, '.', strand)))\n",
    "        downstream_list.append(' '.join((chrom, str(pas+1), str(pas+distance), gene_id, '.', strand)))\n",
    "    else:\n",
    "        upstream_list.append(' '.join((chrom, str(end+1), str(end+distance), gene_id, '.', strand)))\n",
    "        downstream_list.append(' '.join((chrom, str(pas-distance), str(pas-1), gene_id, '.', strand)))\n",
    "\n",
    "    gene_body_list.append(' '.join((chrom, str(start), str(end), gene_id, '.', strand)))\n"
   ],
   "outputs": [],
   "metadata": {
    "ExecuteTime": {
     "end_time": "2021-07-09T02:11:07.658659Z",
     "start_time": "2021-07-09T02:11:07.192323Z"
    },
    "execution": {
     "iopub.execute_input": "2021-06-05T04:46:02.488860Z",
     "iopub.status.busy": "2021-06-05T04:46:02.488513Z",
     "iopub.status.idle": "2021-06-05T04:46:02.943720Z",
     "shell.execute_reply": "2021-06-05T04:46:02.942852Z",
     "shell.execute_reply.started": "2021-06-05T04:46:02.488819Z"
    }
   }
  },
  {
   "cell_type": "code",
   "execution_count": 11,
   "source": [
    "upstream_list = pybedtools.BedTool('\\n'.join(upstream_list), from_string=True)\n",
    "downstream_list = pybedtools.BedTool('\\n'.join(downstream_list), from_string=True)\n",
    "gene_body_list = pybedtools.BedTool('\\n'.join(gene_body_list), from_string=True)"
   ],
   "outputs": [],
   "metadata": {
    "ExecuteTime": {
     "end_time": "2021-07-09T02:11:10.330279Z",
     "start_time": "2021-07-09T02:11:10.262211Z"
    },
    "execution": {
     "iopub.execute_input": "2021-06-05T04:46:05.975456Z",
     "iopub.status.busy": "2021-06-05T04:46:05.975129Z",
     "iopub.status.idle": "2021-06-05T04:46:06.056929Z",
     "shell.execute_reply": "2021-06-05T04:46:06.056189Z",
     "shell.execute_reply.started": "2021-06-05T04:46:05.975414Z"
    }
   }
  },
  {
   "cell_type": "code",
   "execution_count": 12,
   "source": [
    "infile = '/public/home/mowp/db/Arabidopsis_thaliana/isoform/araport11.gene.bed'\n",
    "araport11_gene = pybedtools.BedTool(infile)"
   ],
   "outputs": [],
   "metadata": {
    "ExecuteTime": {
     "end_time": "2021-07-09T02:11:10.916005Z",
     "start_time": "2021-07-09T02:11:10.911558Z"
    },
    "execution": {
     "iopub.execute_input": "2021-06-05T04:46:06.577875Z",
     "iopub.status.busy": "2021-06-05T04:46:06.577649Z",
     "iopub.status.idle": "2021-06-05T04:46:06.582355Z",
     "shell.execute_reply": "2021-06-05T04:46:06.581745Z",
     "shell.execute_reply.started": "2021-06-05T04:46:06.577845Z"
    }
   }
  },
  {
   "cell_type": "code",
   "execution_count": 13,
   "source": [
    "downstream = downstream_list.intersect(araport11_gene, wa=True, wb=True).to_dataframe()\n",
    "downstream = downstream[['name', 'strand', 'blockCount', 'blockStarts']]\n",
    "downstream.columns = ['upstream_gene', 'upstream_strand', 'downstream_gene', 'downstream_strand']"
   ],
   "outputs": [],
   "metadata": {
    "ExecuteTime": {
     "end_time": "2021-07-09T02:11:12.241486Z",
     "start_time": "2021-07-09T02:11:12.025588Z"
    },
    "execution": {
     "iopub.execute_input": "2021-06-05T04:46:07.029501Z",
     "iopub.status.busy": "2021-06-05T04:46:07.029261Z",
     "iopub.status.idle": "2021-06-05T04:46:07.278802Z",
     "shell.execute_reply": "2021-06-05T04:46:07.277927Z",
     "shell.execute_reply.started": "2021-06-05T04:46:07.029471Z"
    }
   }
  },
  {
   "cell_type": "code",
   "execution_count": 14,
   "source": [
    "# get pre_trna_gene\n",
    "\n",
    "infile = '/public/home/mowp/db/Arabidopsis_thaliana/Araport11_gene_type'\n",
    "gene_type = pd.read_csv(infile, sep='\\t', comment='!')\n",
    "pre_trna_gene = set(gene_type.query('gene_model_type == \"pre_trna\"')['name'])\n",
    "# pre_trna_gene = set(gene_type.query('gene_model_type == \"transposable_element_gene\"')['name'])"
   ],
   "outputs": [],
   "metadata": {
    "ExecuteTime": {
     "end_time": "2021-07-09T02:11:14.964265Z",
     "start_time": "2021-07-09T02:11:14.846225Z"
    },
    "execution": {
     "iopub.execute_input": "2021-06-05T04:46:07.594662Z",
     "iopub.status.busy": "2021-06-05T04:46:07.594399Z",
     "iopub.status.idle": "2021-06-05T04:46:07.732124Z",
     "shell.execute_reply": "2021-06-05T04:46:07.731370Z",
     "shell.execute_reply.started": "2021-06-05T04:46:07.594628Z"
    }
   }
  },
  {
   "cell_type": "code",
   "execution_count": 15,
   "source": [
    "# Get downstream genes with tRNA\n",
    "\n",
    "downstream_with_trna = set(downstream.query('downstream_gene in @pre_trna_gene')['upstream_gene'])\n",
    "downstream_with_other_gene = set(downstream.query('downstream_gene not in @pre_trna_gene and upstream_gene != downstream_gene')['upstream_gene'])"
   ],
   "outputs": [],
   "metadata": {
    "ExecuteTime": {
     "end_time": "2021-07-09T02:11:16.573789Z",
     "start_time": "2021-07-09T02:11:16.542691Z"
    },
    "execution": {
     "iopub.execute_input": "2021-06-05T04:46:08.715839Z",
     "iopub.status.busy": "2021-06-05T04:46:08.715599Z",
     "iopub.status.idle": "2021-06-05T04:46:08.737003Z",
     "shell.execute_reply": "2021-06-05T04:46:08.736290Z",
     "shell.execute_reply.started": "2021-06-05T04:46:08.715808Z"
    }
   }
  },
  {
   "cell_type": "code",
   "execution_count": 16,
   "source": [
    "%store downstream_with_other_gene"
   ],
   "outputs": [
    {
     "output_type": "stream",
     "name": "stdout",
     "text": [
      "Stored 'downstream_with_other_gene' (set)\n"
     ]
    }
   ],
   "metadata": {
    "ExecuteTime": {
     "end_time": "2021-07-09T02:11:46.965617Z",
     "start_time": "2021-07-09T02:11:46.941340Z"
    },
    "execution": {
     "iopub.execute_input": "2021-06-05T04:46:09.291237Z",
     "iopub.status.busy": "2021-06-05T04:46:09.291017Z",
     "iopub.status.idle": "2021-06-05T04:46:09.298267Z",
     "shell.execute_reply": "2021-06-05T04:46:09.297537Z",
     "shell.execute_reply.started": "2021-06-05T04:46:09.291207Z"
    }
   }
  },
  {
   "cell_type": "code",
   "execution_count": 18,
   "source": [
    "trna_read_through_len = cb_pool_read_through_len.query('gene_id in @downstream_with_trna').copy()\n",
    "trna_read_through_len['tts'] = trna_read_through_len['tts'].map(round)"
   ],
   "outputs": [],
   "metadata": {
    "ExecuteTime": {
     "end_time": "2021-07-09T02:12:01.981983Z",
     "start_time": "2021-07-09T02:12:01.961919Z"
    },
    "execution": {
     "iopub.execute_input": "2021-06-05T04:46:15.600266Z",
     "iopub.status.busy": "2021-06-05T04:46:15.599991Z",
     "iopub.status.idle": "2021-06-05T04:46:15.609693Z",
     "shell.execute_reply": "2021-06-05T04:46:15.608672Z",
     "shell.execute_reply.started": "2021-06-05T04:46:15.600233Z"
    }
   }
  },
  {
   "cell_type": "code",
   "execution_count": 19,
   "source": [
    "downstream_ = downstream.query('downstream_gene in @pre_trna_gene')\n",
    "trna_read_through_len = pd.merge(trna_read_through_len, downstream_, left_on='gene_id', right_on='upstream_gene')"
   ],
   "outputs": [],
   "metadata": {
    "ExecuteTime": {
     "end_time": "2021-07-09T02:12:03.058938Z",
     "start_time": "2021-07-09T02:12:03.026356Z"
    },
    "execution": {
     "iopub.execute_input": "2021-06-05T04:46:16.115879Z",
     "iopub.status.busy": "2021-06-05T04:46:16.115650Z",
     "iopub.status.idle": "2021-06-05T04:46:16.128683Z",
     "shell.execute_reply": "2021-06-05T04:46:16.127828Z",
     "shell.execute_reply.started": "2021-06-05T04:46:16.115848Z"
    }
   }
  },
  {
   "cell_type": "code",
   "execution_count": 21,
   "source": [
    "trna_read_through_len = pd.merge(trna_read_through_len, gene_model, left_on='downstream_gene', right_on='Name')"
   ],
   "outputs": [],
   "metadata": {
    "ExecuteTime": {
     "end_time": "2021-07-09T02:12:06.308932Z",
     "start_time": "2021-07-09T02:12:06.258619Z"
    },
    "execution": {
     "iopub.execute_input": "2021-06-05T04:46:20.065428Z",
     "iopub.status.busy": "2021-06-05T04:46:20.065188Z",
     "iopub.status.idle": "2021-06-05T04:46:20.087582Z",
     "shell.execute_reply": "2021-06-05T04:46:20.086640Z",
     "shell.execute_reply.started": "2021-06-05T04:46:20.065399Z"
    }
   }
  },
  {
   "cell_type": "code",
   "execution_count": 22,
   "source": [
    "%store trna_read_through_len"
   ],
   "outputs": [
    {
     "output_type": "stream",
     "name": "stdout",
     "text": [
      "Stored 'trna_read_through_len' (DataFrame)\n"
     ]
    }
   ],
   "metadata": {
    "ExecuteTime": {
     "end_time": "2021-07-09T02:12:09.873765Z",
     "start_time": "2021-07-09T02:12:09.862843Z"
    },
    "execution": {
     "iopub.execute_input": "2021-06-05T04:46:21.655143Z",
     "iopub.status.busy": "2021-06-05T04:46:21.654860Z",
     "iopub.status.idle": "2021-06-05T04:46:21.662989Z",
     "shell.execute_reply": "2021-06-05T04:46:21.661869Z",
     "shell.execute_reply.started": "2021-06-05T04:46:21.655105Z"
    }
   }
  },
  {
   "cell_type": "code",
   "execution_count": 44,
   "source": [
    "same_strand_distance, diff_strand_distance = [], []\n",
    "for item in trna_read_through_len.itertuples():\n",
    "    if item.upstream_strand == '+':\n",
    "        distance = item.Start-item.tts\n",
    "    else:\n",
    "        distance = item.tts-item.End\n",
    "            \n",
    "    if item.upstream_strand == item.downstream_strand:\n",
    "        same_strand_distance.append((item.gene_id, distance))\n",
    "    else:\n",
    "        diff_strand_distance.append((item.gene_id, distance))\n",
    "        "
   ],
   "outputs": [],
   "metadata": {
    "ExecuteTime": {
     "end_time": "2021-07-09T02:22:48.807949Z",
     "start_time": "2021-07-09T02:22:48.799956Z"
    },
    "execution": {
     "iopub.execute_input": "2021-06-05T04:46:43.923367Z",
     "iopub.status.busy": "2021-06-05T04:46:43.923087Z",
     "iopub.status.idle": "2021-06-05T04:46:43.935473Z",
     "shell.execute_reply": "2021-06-05T04:46:43.934417Z",
     "shell.execute_reply.started": "2021-06-05T04:46:43.923327Z"
    }
   }
  },
  {
   "cell_type": "code",
   "execution_count": 45,
   "source": [
    "same_strand_distance = pd.DataFrame(same_strand_distance, columns=['gene_id', 'distance'])\n",
    "diff_strand_distance = pd.DataFrame(diff_strand_distance, columns=['gene_id', 'distance'])"
   ],
   "outputs": [],
   "metadata": {
    "ExecuteTime": {
     "end_time": "2021-07-09T02:23:01.792886Z",
     "start_time": "2021-07-09T02:23:01.787590Z"
    },
    "execution": {
     "iopub.execute_input": "2021-06-05T04:46:48.707645Z",
     "iopub.status.busy": "2021-06-05T04:46:48.707319Z",
     "iopub.status.idle": "2021-06-05T04:46:48.716297Z",
     "shell.execute_reply": "2021-06-05T04:46:48.715437Z",
     "shell.execute_reply.started": "2021-06-05T04:46:48.707605Z"
    }
   }
  },
  {
   "cell_type": "code",
   "execution_count": 46,
   "source": [
    "%store same_strand_distance\n",
    "%store diff_strand_distance"
   ],
   "outputs": [
    {
     "output_type": "stream",
     "name": "stdout",
     "text": [
      "Stored 'same_strand_distance' (DataFrame)\n",
      "Stored 'diff_strand_distance' (DataFrame)\n"
     ]
    }
   ],
   "metadata": {
    "ExecuteTime": {
     "end_time": "2021-07-09T02:23:03.701355Z",
     "start_time": "2021-07-09T02:23:03.694426Z"
    },
    "execution": {
     "iopub.execute_input": "2021-05-29T09:09:31.994020Z",
     "iopub.status.busy": "2021-05-29T09:09:31.993600Z",
     "iopub.status.idle": "2021-05-29T09:09:32.005215Z",
     "shell.execute_reply": "2021-05-29T09:09:32.004191Z",
     "shell.execute_reply.started": "2021-05-29T09:09:31.993968Z"
    }
   }
  },
  {
   "cell_type": "code",
   "execution_count": 27,
   "source": [
    "bins = np.arange(0, 100, 1)"
   ],
   "outputs": [],
   "metadata": {
    "ExecuteTime": {
     "end_time": "2021-07-09T02:14:02.190972Z",
     "start_time": "2021-07-09T02:14:02.185366Z"
    },
    "execution": {
     "iopub.execute_input": "2021-05-29T08:37:02.166326Z",
     "iopub.status.busy": "2021-05-29T08:37:02.166075Z",
     "iopub.status.idle": "2021-05-29T08:37:02.169712Z",
     "shell.execute_reply": "2021-05-29T08:37:02.169050Z",
     "shell.execute_reply.started": "2021-05-29T08:37:02.166295Z"
    }
   }
  },
  {
   "cell_type": "code",
   "execution_count": 32,
   "source": [
    "plt.figure(figsize=(4, 3))\n",
    "data_ = same_strand_distance.query('distance > 0')\n",
    "sns.histplot(data=data_, x=\"distance\", kde=True, discrete=True, edgecolor=None)\n",
    "# sns.histplot(data=data_, x=\"distance\", element=\"poly\", bins=bins)\n",
    "sns.despine(top=True, right=True)\n",
    "\n",
    "plt.xlabel('Distance (nt)')\n",
    "plt.title('Tandem')\n",
    "print(f'n = {len(data_)}')"
   ],
   "outputs": [
    {
     "output_type": "stream",
     "name": "stdout",
     "text": [
      "n = 35\n"
     ]
    },
    {
     "output_type": "display_data",
     "data": {
      "text/plain": [
       "<Figure size 288x216 with 1 Axes>"
      ],
      "image/png": "[encoded data removed]"
     },
     "metadata": {
      "image/png": {
       "height": 227,
       "width": 269
      },
      "needs_background": "light"
     }
    }
   ],
   "metadata": {
    "ExecuteTime": {
     "end_time": "2021-07-09T02:14:59.362842Z",
     "start_time": "2021-07-09T02:14:58.858466Z"
    },
    "execution": {
     "iopub.execute_input": "2021-05-29T09:00:29.762901Z",
     "iopub.status.busy": "2021-05-29T09:00:29.762574Z",
     "iopub.status.idle": "2021-05-29T09:00:30.095111Z",
     "shell.execute_reply": "2021-05-29T09:00:30.094391Z",
     "shell.execute_reply.started": "2021-05-29T09:00:29.762860Z"
    },
    "jupyter": {
     "outputs_hidden": true,
     "source_hidden": true
    }
   }
  },
  {
   "cell_type": "code",
   "execution_count": 39,
   "source": [
    "plt.figure(figsize=(4, 2))\n",
    "data_ = same_strand_distance.query('distance > 0')\n",
    "# sns.histplot(data=data_, x=\"distance\", kde=True, bins=bins)\n",
    "sns.histplot(data=data_, x=\"distance\", binwidth=1, edgecolor='white')\n",
    "sns.despine(top=True, right=True)\n",
    "\n",
    "plt.xlabel('Distance between\\ntermiantion window and tRNA (nt)')\n",
    "plt.ylabel('Number of genes')\n",
    "plt.title('Tandem')\n",
    "print(f'n = {len(data_)}')"
   ],
   "outputs": [
    {
     "output_type": "stream",
     "name": "stdout",
     "text": [
      "n = 34\n"
     ]
    },
    {
     "output_type": "display_data",
     "data": {
      "text/plain": [
       "<Figure size 288x144 with 1 Axes>"
      ],
      "image/png": "[encoded data removed]"
     },
     "metadata": {
      "image/png": {
       "height": 186,
       "width": 273
      },
      "needs_background": "light"
     }
    }
   ],
   "metadata": {
    "execution": {
     "iopub.execute_input": "2021-06-05T04:56:42.287779Z",
     "iopub.status.busy": "2021-06-05T04:56:42.287532Z",
     "iopub.status.idle": "2021-06-05T04:56:42.700995Z",
     "shell.execute_reply": "2021-06-05T04:56:42.700408Z",
     "shell.execute_reply.started": "2021-06-05T04:56:42.287748Z"
    },
    "scrolled": true
   }
  },
  {
   "cell_type": "code",
   "execution_count": null,
   "source": [],
   "outputs": [],
   "metadata": {}
  },
  {
   "cell_type": "code",
   "execution_count": 312,
   "source": [
    "plt.figure(figsize=(4, 3))\n",
    "data_ = diff_strand_distance.query('distance > 0')\n",
    "sns.histplot(data=data_, x=\"distance\", kde=True, bins=bins, edgecolor=None)\n",
    "# sns.histplot(data=data_, x=\"distance\", element=\"poly\", bins=bins)\n",
    "sns.despine(top=True, right=True)\n",
    "\n",
    "plt.xlabel('Distance (nt)')\n",
    "plt.title('Convergent')\n",
    "print(f'n = {len(data_)}')"
   ],
   "outputs": [
    {
     "output_type": "stream",
     "name": "stdout",
     "text": [
      "n = 35\n"
     ]
    },
    {
     "output_type": "display_data",
     "data": {
      "text/plain": [
       "<Figure size 288x216 with 1 Axes>"
      ],
      "image/png": "[encoded data removed]"
     },
     "metadata": {
      "image/png": {
       "height": 227,
       "width": 268
      },
      "needs_background": "light"
     }
    }
   ],
   "metadata": {
    "execution": {
     "iopub.execute_input": "2021-05-29T09:00:52.450560Z",
     "iopub.status.busy": "2021-05-29T09:00:52.450273Z",
     "iopub.status.idle": "2021-05-29T09:00:52.915464Z",
     "shell.execute_reply": "2021-05-29T09:00:52.914736Z",
     "shell.execute_reply.started": "2021-05-29T09:00:52.450526Z"
    },
    "jupyter": {
     "outputs_hidden": true,
     "source_hidden": true
    }
   }
  },
  {
   "cell_type": "code",
   "execution_count": 40,
   "source": [
    "plt.figure(figsize=(4, 2))\n",
    "data_ = diff_strand_distance.query('distance > 0')\n",
    "# sns.histplot(data=data_, x=\"distance\", kde=True, bins=bins)\n",
    "sns.histplot(data=data_, x=\"distance\", binwidth=1, edgecolor='white')\n",
    "sns.despine(top=True, right=True)\n",
    "\n",
    "plt.xlabel('Distance between\\ntermiantion window and tRNA (nt)')\n",
    "plt.ylabel('Number of genes')\n",
    "plt.title('Convergent')\n",
    "print(f'n = {len(data_)}')"
   ],
   "outputs": [
    {
     "output_type": "stream",
     "name": "stdout",
     "text": [
      "n = 35\n"
     ]
    },
    {
     "output_type": "display_data",
     "data": {
      "text/plain": [
       "<Figure size 288x144 with 1 Axes>"
      ],
      "image/png": "[encoded data removed]"
     },
     "metadata": {
      "image/png": {
       "height": 186,
       "width": 271
      },
      "needs_background": "light"
     }
    }
   ],
   "metadata": {
    "execution": {
     "iopub.execute_input": "2021-06-05T04:56:57.383311Z",
     "iopub.status.busy": "2021-06-05T04:56:57.382974Z",
     "iopub.status.idle": "2021-06-05T04:56:57.770772Z",
     "shell.execute_reply": "2021-06-05T04:56:57.770036Z",
     "shell.execute_reply.started": "2021-06-05T04:56:57.383270Z"
    }
   }
  }
 ],
 "metadata": {
  "kernelspec": {
   "display_name": "Python 3",
   "language": "python",
   "name": "python3"
  },
  "language_info": {
   "codemirror_mode": {
    "name": "ipython",
    "version": 3
   },
   "file_extension": ".py",
   "mimetype": "text/x-python",
   "name": "python",
   "nbconvert_exporter": "python",
   "pygments_lexer": "ipython3",
   "version": "3.8.8"
  },
  "toc": {
   "base_numbering": 1,
   "nav_menu": {},
   "number_sections": true,
   "sideBar": true,
   "skip_h1_title": false,
   "title_cell": "Table of Contents",
   "title_sidebar": "Contents",
   "toc_cell": false,
   "toc_position": {},
   "toc_section_display": true,
   "toc_window_display": true
  }
 },
 "nbformat": 4,
 "nbformat_minor": 4
}