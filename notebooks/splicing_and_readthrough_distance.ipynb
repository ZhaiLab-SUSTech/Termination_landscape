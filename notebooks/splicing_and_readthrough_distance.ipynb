{
 "cells": [
  {
   "cell_type": "code",
   "execution_count": 1,
   "source": [
    "# 加载画图包\n",
    "%config InlineBackend.figure_format = 'retina'\n",
    "\n",
    "from matplotlib import pyplot as plt\n",
    "import matplotlib.ticker as ticker\n",
    "import matplotlib.font_manager as font_manager\n",
    "import matplotlib as mpl\n",
    "import seaborn as sns\n",
    "\n",
    "# 设置全局字体\n",
    "font_dirs = [\"/public/home/mowp/test/fonts/\"]\n",
    "font_files = font_manager.findSystemFonts(fontpaths=font_dirs)\n",
    "\n",
    "for font_file in font_files:\n",
    "    font_manager.fontManager.addfont(font_file)\n",
    "    \n",
    "plt.rcParams[\"font.family\"] = \"Arial\"\n",
    "plt.rcParams['font.size'] = 12\n",
    "plt.rcParams['svg.fonttype'] = 'none'\n",
    "\n",
    "# setting color palette\n",
    "# pal = sns.color_palette(\"Paired\")\n",
    "# sns.set_palette(pal)\n",
    "# sns.palplot(pal)"
   ],
   "outputs": [],
   "metadata": {
    "ExecuteTime": {
     "end_time": "2021-06-25T02:37:24.131977Z",
     "start_time": "2021-06-25T02:37:11.901101Z"
    },
    "execution": {
     "iopub.execute_input": "2021-06-03T13:13:41.299729Z",
     "iopub.status.busy": "2021-06-03T13:13:41.299081Z",
     "iopub.status.idle": "2021-06-03T13:13:43.244692Z",
     "shell.execute_reply": "2021-06-03T13:13:43.243710Z",
     "shell.execute_reply.started": "2021-06-03T13:13:41.299532Z"
    }
   }
  },
  {
   "cell_type": "code",
   "execution_count": 2,
   "source": [
    "import numpy as np\n",
    "import pandas as pd\n",
    "from collections import namedtuple\n",
    "import pickle\n",
    "from concurrent.futures import ProcessPoolExecutor\n",
    "from itertools import repeat\n",
    "import pyranges as pr\n",
    "import pysam\n",
    "from collections import Counter, defaultdict"
   ],
   "outputs": [],
   "metadata": {
    "ExecuteTime": {
     "end_time": "2021-06-25T02:37:27.190539Z",
     "start_time": "2021-06-25T02:37:24.135993Z"
    },
    "execution": {
     "iopub.execute_input": "2021-06-03T13:13:43.246986Z",
     "iopub.status.busy": "2021-06-03T13:13:43.246682Z",
     "iopub.status.idle": "2021-06-03T13:13:51.751008Z",
     "shell.execute_reply": "2021-06-03T13:13:51.749950Z",
     "shell.execute_reply.started": "2021-06-03T13:13:43.246944Z"
    }
   }
  },
  {
   "cell_type": "code",
   "execution_count": 3,
   "source": [
    "# get last pa sites\n",
    "# get single polya site gene\n",
    "\n",
    "last_pa_bed = '/public/home/mowp/workspace/termination/cbRNA_pool/polya_sites/cbRNA.last_polya_cluster_summit.bed'\n",
    "last_pa = pr.read_bed(last_pa_bed, as_df=True)\n",
    "last_pa.columns = ['Chromosome', 'Start', 'End', 'Name', 'Score', 'Strand', 'ratio']\n",
    "last_pa.loc[:, 'Chromosome'] = last_pa.loc[:, 'Chromosome'].astype('str')\n",
    "\n",
    "mask = last_pa.loc[:, 'Name'].str.contains('_1')\n",
    "single_pa_site_gene = last_pa[mask].loc[:, 'Name'].map(lambda x: x.split('_')[0])\n",
    "\n",
    "last_pa['Name'] = last_pa['Name'].map(lambda x: x.split('_')[0])\n",
    "last_pa = last_pa.set_index(['Name'])\n",
    "\n",
    "\n",
    "# get gene model\n",
    "\n",
    "gene_model_bed = '/public/home/mowp/db/Arabidopsis_thaliana/isoform/araport11.gene.bed'\n",
    "gene_model = pr.read_bed(gene_model_bed, as_df=True)\n",
    "gene_model = gene_model.set_index(['Name'])"
   ],
   "outputs": [],
   "metadata": {
    "ExecuteTime": {
     "end_time": "2021-06-25T02:37:27.629353Z",
     "start_time": "2021-06-25T02:37:27.196686Z"
    },
    "execution": {
     "iopub.execute_input": "2021-06-03T13:13:51.756568Z",
     "iopub.status.busy": "2021-06-03T13:13:51.756062Z",
     "iopub.status.idle": "2021-06-03T13:13:52.171054Z",
     "shell.execute_reply": "2021-06-03T13:13:52.170125Z",
     "shell.execute_reply.started": "2021-06-03T13:13:51.756517Z"
    }
   }
  },
  {
   "cell_type": "code",
   "execution_count": 4,
   "source": [
    "# get protein-coding gene\n",
    "\n",
    "protein_coding_bed = '/public/home/mowp/db/Arabidopsis_thaliana/bed/Araport11_protein_coding.201606.bed'\n",
    "protein_coding = pr.read_bed(protein_coding_bed, as_df=True)\n",
    "\n",
    "protein_coding_gene = set(protein_coding['Name'].map(lambda x: x.split('.')[0]))"
   ],
   "outputs": [],
   "metadata": {
    "ExecuteTime": {
     "end_time": "2021-06-25T02:37:28.062471Z",
     "start_time": "2021-06-25T02:37:27.633132Z"
    },
    "execution": {
     "iopub.execute_input": "2021-06-03T13:13:54.074958Z",
     "iopub.status.busy": "2021-06-03T13:13:54.074561Z",
     "iopub.status.idle": "2021-06-03T13:13:54.515001Z",
     "shell.execute_reply": "2021-06-03T13:13:54.513924Z",
     "shell.execute_reply.started": "2021-06-03T13:13:54.074907Z"
    }
   }
  },
  {
   "cell_type": "code",
   "execution_count": 5,
   "source": [
    "all_gene = set(single_pa_site_gene) & protein_coding_gene"
   ],
   "outputs": [],
   "metadata": {
    "ExecuteTime": {
     "end_time": "2021-06-25T02:37:28.079765Z",
     "start_time": "2021-06-25T02:37:28.065468Z"
    },
    "execution": {
     "iopub.execute_input": "2021-06-03T13:13:55.025672Z",
     "iopub.status.busy": "2021-06-03T13:13:55.025342Z",
     "iopub.status.idle": "2021-06-03T13:13:55.037647Z",
     "shell.execute_reply": "2021-06-03T13:13:55.036687Z",
     "shell.execute_reply.started": "2021-06-03T13:13:55.025630Z"
    }
   }
  },
  {
   "cell_type": "code",
   "execution_count": 6,
   "source": [
    "def get_target_site(site_type, gene_id):\n",
    "    if site_type == 'PAS':\n",
    "        # 获取基因PAS\n",
    "        return last_pa.at[gene_id, 'End']\n",
    "    elif site_type == 'TSS':\n",
    "        # 获取基因TSS\n",
    "        # array(['1', 3629, 5899, '.', '+'], dtype=object)\n",
    "        values = gene_model.loc[gene_id, :].values\n",
    "        if values[4] == '+':\n",
    "            return values[1]\n",
    "        else:\n",
    "            return values[2]\n",
    "    elif site_type == 'TES':\n",
    "        # 获取基因TES\n",
    "        # array(['1', 3629, 5899, '.', '+'], dtype=object)\n",
    "        values = gene_model.loc[gene_id, :].values\n",
    "        if values[4] == '+':\n",
    "            return values[2]\n",
    "        else:\n",
    "            return values[1]\n",
    "    else:\n",
    "        raise KeyError\n",
    "\n"
   ],
   "outputs": [],
   "metadata": {
    "ExecuteTime": {
     "end_time": "2021-06-25T02:37:28.101301Z",
     "start_time": "2021-06-25T02:37:28.084847Z"
    },
    "execution": {
     "iopub.execute_input": "2021-06-03T13:13:57.594846Z",
     "iopub.status.busy": "2021-06-03T13:13:57.594451Z",
     "iopub.status.idle": "2021-06-03T13:13:57.606028Z",
     "shell.execute_reply": "2021-06-03T13:13:57.604835Z",
     "shell.execute_reply.started": "2021-06-03T13:13:57.594794Z"
    }
   }
  },
  {
   "cell_type": "code",
   "execution_count": null,
   "source": [],
   "outputs": [],
   "metadata": {
    "hidden": true
   }
  },
  {
   "cell_type": "markdown",
   "source": [
    "# readthrough length of transcripts with different splicing status"
   ],
   "metadata": {}
  },
  {
   "cell_type": "code",
   "execution_count": 7,
   "source": [
    "def splice_stats_readthrough_len(infile, gene_id, before=100, after=500, return_median=True):\n",
    "    '''\n",
    "    计算基因(加上上下游)区域覆盖度的频数\n",
    "    '''\n",
    "    chrom, *_, strand = gene_model.loc[gene_id]\n",
    "    if chrom in {'Pt', 'Mt'}:\n",
    "        return None\n",
    "\n",
    "    target_site = get_target_site('PAS', gene_id)\n",
    "    \n",
    "    spliced_rt, unspliced_rt, partially_rt = [], [], []\n",
    "    \n",
    "    if strand == '+':\n",
    "        start = target_site-before\n",
    "        end = target_site+after\n",
    "    else:\n",
    "        start = target_site-after\n",
    "        end = target_site+before\n",
    "    \n",
    "    with pysam.AlignmentFile(infile, 'rb') as inbam:\n",
    "        for read in inbam.fetch(chrom, start, end):\n",
    "            intron_count = read.get_tag('sn')  # span_intron_num\n",
    "            unsplice_count = read.get_tag('rn')  # retention_intron_num\n",
    "            unsplice_intron = read.get_tag('ri')  # retention_introns\n",
    "            if intron_count == 0:\n",
    "                continue\n",
    "                \n",
    "            read_gene_id = read.get_tag('gi')\n",
    "            if read_gene_id not in {gene_id}:\n",
    "                continue\n",
    "\n",
    "            if strand == '+':\n",
    "                read_three_end = read.reference_end\n",
    "                readthrough_len = read_three_end-target_site\n",
    "            else:\n",
    "                read_three_end = read.reference_start\n",
    "                readthrough_len = target_site-read_three_end\n",
    "            \n",
    "            if readthrough_len < 50:\n",
    "                continue\n",
    "            \n",
    "\n",
    "            if unsplice_count == 0:\n",
    "                spliced_rt.append(readthrough_len)\n",
    "            elif unsplice_count == intron_count:\n",
    "                unspliced_rt.append(readthrough_len)\n",
    "            else:\n",
    "                partially_rt.append(readthrough_len)\n",
    "    \n",
    "    if return_median:\n",
    "        spliced_n = len(spliced_rt)\n",
    "        spliced_rt = np.median(spliced_rt) if len(spliced_rt) > 10 else None\n",
    "        unspliced_n = len(unspliced_rt)\n",
    "        unspliced_rt = np.median(unspliced_rt) if len(unspliced_rt) > 10 else None\n",
    "        partially_n = len(partially_rt)\n",
    "        partially_rt = np.median(partially_rt) if len(partially_rt) > 10 else None\n",
    "        \n",
    "        return spliced_rt, spliced_n, unspliced_rt, unspliced_n, partially_rt, partially_n, gene_id\n",
    "        \n",
    "\n",
    "    return spliced_rt, unspliced_rt, partially_rt, gene_id\n",
    "\n",
    "\n",
    "def splice_stats_readthrough_len_turbo(infile, gene_list, threads=64):\n",
    "    results = []\n",
    "    with ProcessPoolExecutor(max_workers=threads) as e:\n",
    "        chunksize = int(len(gene_list)/threads)\n",
    "        results = e.map(splice_stats_readthrough_len, repeat(infile), gene_list, chunksize=chunksize)\n",
    "    \n",
    "    spliced_rt, unspliced_rt, partially_rt = [], [], []\n",
    "    data = []\n",
    "    for res in results:\n",
    "        if res is not None:\n",
    "            spliced_rt.append(res[0])\n",
    "            unspliced_rt.append(res[2])\n",
    "            partially_rt.append(res[4])\n",
    "            data.append(res)\n",
    "    return spliced_rt, unspliced_rt, partially_rt, data"
   ],
   "outputs": [],
   "metadata": {
    "ExecuteTime": {
     "end_time": "2021-06-25T02:50:15.142358Z",
     "start_time": "2021-06-25T02:50:15.085479Z"
    },
    "execution": {
     "iopub.execute_input": "2021-06-06T08:20:46.506174Z",
     "iopub.status.busy": "2021-06-06T08:20:46.505863Z",
     "iopub.status.idle": "2021-06-06T08:20:46.526320Z",
     "shell.execute_reply": "2021-06-06T08:20:46.525639Z",
     "shell.execute_reply.started": "2021-06-06T08:20:46.506139Z"
    }
   }
  },
  {
   "cell_type": "code",
   "execution_count": 8,
   "source": [
    "infile = '/public/home/mowp/workspace/termination/cbRNA_pool/elongating_data/cbRNA.elongating.bam'\n",
    "\n",
    "spliced_rt, unspliced_rt, partially_rt, data = splice_stats_readthrough_len_turbo(infile, all_gene)\n"
   ],
   "outputs": [],
   "metadata": {
    "ExecuteTime": {
     "end_time": "2021-06-25T02:50:34.969084Z",
     "start_time": "2021-06-25T02:50:22.232905Z"
    },
    "execution": {
     "iopub.execute_input": "2021-06-06T08:20:48.324392Z",
     "iopub.status.busy": "2021-06-06T08:20:48.324158Z",
     "iopub.status.idle": "2021-06-06T08:20:51.503392Z",
     "shell.execute_reply": "2021-06-06T08:20:51.502515Z",
     "shell.execute_reply.started": "2021-06-06T08:20:48.324342Z"
    }
   }
  },
  {
   "cell_type": "code",
   "execution_count": 9,
   "source": [
    "data = pd.DataFrame(data, columns=['spliced_rt', 'spliced_n', 'unspliced_rt', 'unspliced_n', 'partially_rt', 'partially_n', 'gene_id'])\n",
    "data"
   ],
   "outputs": [
    {
     "output_type": "execute_result",
     "data": {
      "text/plain": [
       "       spliced_rt  spliced_n  unspliced_rt  unspliced_n  partially_rt  \\\n",
       "0             NaN          1           NaN            8           NaN   \n",
       "1             NaN          3           NaN            3           NaN   \n",
       "2             NaN          0           NaN            3           NaN   \n",
       "3             NaN          2         109.0           23           NaN   \n",
       "4             NaN          5           NaN            6           NaN   \n",
       "...           ...        ...           ...          ...           ...   \n",
       "13364         NaN          0           NaN            0           NaN   \n",
       "13365         NaN          0           NaN            0           NaN   \n",
       "13366         NaN          3           NaN            0           NaN   \n",
       "13367         NaN          5         150.0           39         197.0   \n",
       "13368       310.0         11           NaN            1           NaN   \n",
       "\n",
       "       partially_n    gene_id  \n",
       "0                0  AT4G00490  \n",
       "1                1  AT5G18550  \n",
       "2                0  AT1G68600  \n",
       "3                3  AT2G33770  \n",
       "4                0  AT5G65450  \n",
       "...            ...        ...  \n",
       "13364            0  AT4G02440  \n",
       "13365            0  AT4G01070  \n",
       "13366            1  AT5G10840  \n",
       "13367           19  AT2G39780  \n",
       "13368            7  AT4G03200  \n",
       "\n",
       "[13369 rows x 7 columns]"
      ],
      "text/html": [
       "<div>\n",
       "<style scoped>\n",
       "    .dataframe tbody tr th:only-of-type {\n",
       "        vertical-align: middle;\n",
       "    }\n",
       "\n",
       "    .dataframe tbody tr th {\n",
       "        vertical-align: top;\n",
       "    }\n",
       "\n",
       "    .dataframe thead th {\n",
       "        text-align: right;\n",
       "    }\n",
       "</style>\n",
       "<table border=\"1\" class=\"dataframe\">\n",
       "  <thead>\n",
       "    <tr style=\"text-align: right;\">\n",
       "      <th></th>\n",
       "      <th>spliced_rt</th>\n",
       "      <th>spliced_n</th>\n",
       "      <th>unspliced_rt</th>\n",
       "      <th>unspliced_n</th>\n",
       "      <th>partially_rt</th>\n",
       "      <th>partially_n</th>\n",
       "      <th>gene_id</th>\n",
       "    </tr>\n",
       "  </thead>\n",
       "  <tbody>\n",
       "    <tr>\n",
       "      <th>0</th>\n",
       "      <td>NaN</td>\n",
       "      <td>1</td>\n",
       "      <td>NaN</td>\n",
       "      <td>8</td>\n",
       "      <td>NaN</td>\n",
       "      <td>0</td>\n",
       "      <td>AT4G00490</td>\n",
       "    </tr>\n",
       "    <tr>\n",
       "      <th>1</th>\n",
       "      <td>NaN</td>\n",
       "      <td>3</td>\n",
       "      <td>NaN</td>\n",
       "      <td>3</td>\n",
       "      <td>NaN</td>\n",
       "      <td>1</td>\n",
       "      <td>AT5G18550</td>\n",
       "    </tr>\n",
       "    <tr>\n",
       "      <th>2</th>\n",
       "      <td>NaN</td>\n",
       "      <td>0</td>\n",
       "      <td>NaN</td>\n",
       "      <td>3</td>\n",
       "      <td>NaN</td>\n",
       "      <td>0</td>\n",
       "      <td>AT1G68600</td>\n",
       "    </tr>\n",
       "    <tr>\n",
       "      <th>3</th>\n",
       "      <td>NaN</td>\n",
       "      <td>2</td>\n",
       "      <td>109.0</td>\n",
       "      <td>23</td>\n",
       "      <td>NaN</td>\n",
       "      <td>3</td>\n",
       "      <td>AT2G33770</td>\n",
       "    </tr>\n",
       "    <tr>\n",
       "      <th>4</th>\n",
       "      <td>NaN</td>\n",
       "      <td>5</td>\n",
       "      <td>NaN</td>\n",
       "      <td>6</td>\n",
       "      <td>NaN</td>\n",
       "      <td>0</td>\n",
       "      <td>AT5G65450</td>\n",
       "    </tr>\n",
       "    <tr>\n",
       "      <th>...</th>\n",
       "      <td>...</td>\n",
       "      <td>...</td>\n",
       "      <td>...</td>\n",
       "      <td>...</td>\n",
       "      <td>...</td>\n",
       "      <td>...</td>\n",
       "      <td>...</td>\n",
       "    </tr>\n",
       "    <tr>\n",
       "      <th>13364</th>\n",
       "      <td>NaN</td>\n",
       "      <td>0</td>\n",
       "      <td>NaN</td>\n",
       "      <td>0</td>\n",
       "      <td>NaN</td>\n",
       "      <td>0</td>\n",
       "      <td>AT4G02440</td>\n",
       "    </tr>\n",
       "    <tr>\n",
       "      <th>13365</th>\n",
       "      <td>NaN</td>\n",
       "      <td>0</td>\n",
       "      <td>NaN</td>\n",
       "      <td>0</td>\n",
       "      <td>NaN</td>\n",
       "      <td>0</td>\n",
       "      <td>AT4G01070</td>\n",
       "    </tr>\n",
       "    <tr>\n",
       "      <th>13366</th>\n",
       "      <td>NaN</td>\n",
       "      <td>3</td>\n",
       "      <td>NaN</td>\n",
       "      <td>0</td>\n",
       "      <td>NaN</td>\n",
       "      <td>1</td>\n",
       "      <td>AT5G10840</td>\n",
       "    </tr>\n",
       "    <tr>\n",
       "      <th>13367</th>\n",
       "      <td>NaN</td>\n",
       "      <td>5</td>\n",
       "      <td>150.0</td>\n",
       "      <td>39</td>\n",
       "      <td>197.0</td>\n",
       "      <td>19</td>\n",
       "      <td>AT2G39780</td>\n",
       "    </tr>\n",
       "    <tr>\n",
       "      <th>13368</th>\n",
       "      <td>310.0</td>\n",
       "      <td>11</td>\n",
       "      <td>NaN</td>\n",
       "      <td>1</td>\n",
       "      <td>NaN</td>\n",
       "      <td>7</td>\n",
       "      <td>AT4G03200</td>\n",
       "    </tr>\n",
       "  </tbody>\n",
       "</table>\n",
       "<p>13369 rows × 7 columns</p>\n",
       "</div>"
      ]
     },
     "metadata": {},
     "execution_count": 9
    }
   ],
   "metadata": {
    "ExecuteTime": {
     "end_time": "2021-06-25T02:50:36.890214Z",
     "start_time": "2021-06-25T02:50:36.681380Z"
    },
    "execution": {
     "iopub.execute_input": "2021-06-06T08:20:53.029176Z",
     "iopub.status.busy": "2021-06-06T08:20:53.028840Z",
     "iopub.status.idle": "2021-06-06T08:20:53.113047Z",
     "shell.execute_reply": "2021-06-06T08:20:53.112380Z",
     "shell.execute_reply.started": "2021-06-06T08:20:53.029128Z"
    }
   }
  },
  {
   "cell_type": "markdown",
   "source": [
    "## boxplot"
   ],
   "metadata": {}
  },
  {
   "cell_type": "code",
   "execution_count": 10,
   "source": [
    "# 基因的不同剪切状态的RT长度\n",
    "\n",
    "data_ = data.dropna()\n",
    "\n",
    "plt.figure(figsize=(4, 3))\n",
    "boxplot_data = [data_['unspliced_rt'], data_['partially_rt'], data_['spliced_rt']]\n",
    "plt.boxplot(\n",
    "    boxplot_data,\n",
    "    showfliers=False,  # 忽略异常值\n",
    "    labels=['Fully\\nunspliced', 'Partially\\nsplicecd', 'Fully\\nspliced'],\n",
    "    widths=.45\n",
    ")\n",
    "plt.ylabel('Full-length\\nreadthrough distance (nt)')\n",
    "sns.despine(top=True, right=True)\n",
    "for i in boxplot_data:\n",
    "    print(f'{np.median(i)} nt, n={len(i)}')"
   ],
   "outputs": [
    {
     "output_type": "stream",
     "name": "stdout",
     "text": [
      "148.25 nt, n=662\n",
      "180.25 nt, n=662\n",
      "188.5 nt, n=662\n"
     ]
    },
    {
     "output_type": "display_data",
     "data": {
      "text/plain": [
       "<Figure size 288x216 with 1 Axes>"
      ],
      "image/png": "[encoded data removed]"
     },
     "metadata": {
      "image/png": {
       "height": 209,
       "width": 293
      },
      "needs_background": "light"
     }
    }
   ],
   "metadata": {
    "ExecuteTime": {
     "end_time": "2021-06-25T02:50:52.567366Z",
     "start_time": "2021-06-25T02:50:51.189320Z"
    },
    "execution": {
     "iopub.execute_input": "2021-06-06T08:22:38.223229Z",
     "iopub.status.busy": "2021-06-06T08:22:38.222702Z",
     "iopub.status.idle": "2021-06-06T08:22:38.502470Z",
     "shell.execute_reply": "2021-06-06T08:22:38.501595Z",
     "shell.execute_reply.started": "2021-06-06T08:22:38.223163Z"
    },
    "scrolled": true
   }
  },
  {
   "cell_type": "markdown",
   "source": [
    "# the splicing status of different kinds of transcripts"
   ],
   "metadata": {
    "execution": {
     "iopub.execute_input": "2021-02-02T05:44:38.749333Z",
     "iopub.status.busy": "2021-02-02T05:44:38.748934Z",
     "iopub.status.idle": "2021-02-02T05:44:38.753375Z",
     "shell.execute_reply": "2021-02-02T05:44:38.752351Z",
     "shell.execute_reply.started": "2021-02-02T05:44:38.749284Z"
    }
   }
  },
  {
   "cell_type": "code",
   "execution_count": 16,
   "source": [
    "def splicing_status_of_transcripts(infile, gene_id, before=100, after=500, return_median=True):\n",
    "    \n",
    "    chrom, start, end, _, strand = gene_model.loc[gene_id]\n",
    "    if chrom in {'Pt', 'Mt'}:\n",
    "        return None\n",
    "\n",
    "    target_site = get_target_site('PAS', gene_id)\n",
    "    \n",
    "    # splicing status results\n",
    "    elongating, readthrough, cleaved, polyadenylated = Counter(), Counter(), Counter(), Counter()\n",
    "    \n",
    "    if strand == '+':\n",
    "        start = target_site-before\n",
    "        end = target_site+after\n",
    "    else:\n",
    "        start = target_site-after\n",
    "        end = target_site+before\n",
    "    \n",
    "    with pysam.AlignmentFile(infile, 'rb') as inbam:\n",
    "        for read in inbam.fetch(chrom, start, end):\n",
    "            intron_count = read.get_tag('sn')  # span_intron_num\n",
    "            unsplice_count = read.get_tag('rn')  # retention_intron_num\n",
    "            unsplice_intron = read.get_tag('ri')  # retention_introns\n",
    "            if intron_count == 0:\n",
    "                continue\n",
    "                \n",
    "            read_gene_id = read.get_tag('gi')\n",
    "            polya_len = read.get_tag('pa')\n",
    "            if read_gene_id not in {gene_id}:\n",
    "                continue\n",
    "            \n",
    "            # get splicing status\n",
    "            if unsplice_count == 0:\n",
    "                splicing_status = 'spliced'\n",
    "            elif unsplice_count == intron_count:\n",
    "                splicing_status = 'unspliced'\n",
    "            else:\n",
    "                splicing_status = 'partially'\n",
    "                \n",
    "            # get readthrough length\n",
    "            if strand == '+':\n",
    "                read_three_end = read.reference_end\n",
    "                readthrough_len = read_three_end-target_site\n",
    "            else:\n",
    "                read_three_end = read.reference_start\n",
    "                readthrough_len = target_site-read_three_end\n",
    "                \n",
    "            if polya_len > 15:\n",
    "                polyadenylated[splicing_status] += 1\n",
    "            elif readthrough_len < -50:\n",
    "                elongating[splicing_status] += 1\n",
    "            elif readthrough_len > 50:\n",
    "                readthrough[splicing_status] += 1\n",
    "            else:\n",
    "                cleaved[splicing_status] += 1\n",
    "        \n",
    "\n",
    "    return elongating, readthrough, cleaved, polyadenylated, gene_id\n",
    "\n",
    "\n",
    "def splicing_status_of_transcripts_turbo(infile, gene_list, threads=64):\n",
    "    results = []\n",
    "    with ProcessPoolExecutor(max_workers=threads) as e:\n",
    "        chunksize = int(len(gene_list)/threads)\n",
    "        results = e.map(splicing_status_of_transcripts, repeat(infile), gene_list, chunksize=chunksize)\n",
    "    \n",
    "    elongating, readthrough, cleaved, polyadenylated = Counter(), Counter(), Counter(), Counter()\n",
    "    for res in results:\n",
    "        if res is not None:\n",
    "            elongating += res[0]\n",
    "            readthrough += res[1]\n",
    "            cleaved += res[2]\n",
    "            polyadenylated += res[3]\n",
    "\n",
    "    return elongating, readthrough, cleaved, polyadenylated"
   ],
   "outputs": [],
   "metadata": {
    "execution": {
     "iopub.execute_input": "2021-05-15T07:10:53.194362Z",
     "iopub.status.busy": "2021-05-15T07:10:53.194012Z",
     "iopub.status.idle": "2021-05-15T07:10:53.220729Z",
     "shell.execute_reply": "2021-05-15T07:10:53.219692Z",
     "shell.execute_reply.started": "2021-05-15T07:10:53.194314Z"
    }
   }
  },
  {
   "cell_type": "markdown",
   "source": [
    "## elongating data"
   ],
   "metadata": {}
  },
  {
   "cell_type": "code",
   "execution_count": 47,
   "source": [
    "Splice_stats = namedtuple('Splice_stats', 'intron_total_count intron_count unsplice_count unsplice_intron')\n",
    "\n",
    "splice_stats_pkl = '/public/home/mowp/workspace/termination/cbRNA_pool/elongating_data/elongating_data.bed.splice_stats.tsv'\n",
    "\n",
    "with open(splice_stats_pkl+'.pkl', 'rb') as f:\n",
    "    splice_stats_dict = pickle.load(f)"
   ],
   "outputs": [],
   "metadata": {
    "execution": {
     "iopub.execute_input": "2021-03-16T11:02:02.436212Z",
     "iopub.status.busy": "2021-03-16T11:02:02.435936Z",
     "iopub.status.idle": "2021-03-16T11:02:26.412046Z",
     "shell.execute_reply": "2021-03-16T11:02:26.411238Z",
     "shell.execute_reply.started": "2021-03-16T11:02:02.436180Z"
    },
    "jupyter": {
     "source_hidden": true
    }
   }
  },
  {
   "cell_type": "code",
   "execution_count": 18,
   "source": [
    "infile = '/public/home/mowp/workspace/termination/cbRNA_pool/elongating_data/cbRNA.elongating.bam'\n",
    "\n",
    "elongating, readthrough, cleaved, _ = splicing_status_of_transcripts_turbo(infile, all_gene)\n"
   ],
   "outputs": [],
   "metadata": {
    "execution": {
     "iopub.execute_input": "2021-05-15T07:11:17.938812Z",
     "iopub.status.busy": "2021-05-15T07:11:17.938484Z",
     "iopub.status.idle": "2021-05-15T07:11:21.288198Z",
     "shell.execute_reply": "2021-05-15T07:11:21.287329Z",
     "shell.execute_reply.started": "2021-05-15T07:11:17.938768Z"
    }
   }
  },
  {
   "cell_type": "markdown",
   "source": [
    "## polyadenylated data"
   ],
   "metadata": {}
  },
  {
   "cell_type": "code",
   "execution_count": 217,
   "source": [
    "Splice_stats = namedtuple('Splice_stats', 'intron_total_count intron_count unsplice_count unsplice_intron')\n",
    "\n",
    "splice_stats_pkl = '/public/home/mowp/workspace/termination/cbRNA_pool/polyadenylated_data/polyadenylated_data.bed.splice_stats.tsv'\n",
    "\n",
    "with open(splice_stats_pkl+'.pkl', 'rb') as f:\n",
    "    splice_stats_dict = pickle.load(f)"
   ],
   "outputs": [],
   "metadata": {
    "execution": {
     "iopub.execute_input": "2021-03-25T07:28:49.599131Z",
     "iopub.status.busy": "2021-03-25T07:28:49.598897Z",
     "iopub.status.idle": "2021-03-25T07:28:52.452872Z",
     "shell.execute_reply": "2021-03-25T07:28:52.452101Z",
     "shell.execute_reply.started": "2021-03-25T07:28:49.599097Z"
    },
    "jupyter": {
     "source_hidden": true
    }
   }
  },
  {
   "cell_type": "code",
   "execution_count": 19,
   "source": [
    "infile = '/public/home/mowp/workspace/termination/cbRNA_pool/polyadenylated_data/cbRNA.polyadenylated.bam'\n",
    "\n",
    "*_, polyadenylated = splicing_status_of_transcripts_turbo(infile, all_gene)\n"
   ],
   "outputs": [],
   "metadata": {
    "execution": {
     "iopub.execute_input": "2021-05-15T07:11:41.881326Z",
     "iopub.status.busy": "2021-05-15T07:11:41.880939Z",
     "iopub.status.idle": "2021-05-15T07:11:47.434742Z",
     "shell.execute_reply": "2021-05-15T07:11:47.433826Z",
     "shell.execute_reply.started": "2021-05-15T07:11:41.881280Z"
    }
   }
  },
  {
   "cell_type": "code",
   "execution_count": 67,
   "source": [
    "splicing_status = pd.DataFrame((readthrough, cleaved, polyadenylated))\n",
    "splicing_status = splicing_status.div(splicing_status.sum(axis=1), axis=0)\n",
    "splicing_status = splicing_status[['unspliced', 'partially', 'spliced']]\n",
    "splicing_status"
   ],
   "outputs": [
    {
     "output_type": "execute_result",
     "data": {
      "text/plain": [
       "   unspliced  partially   spliced\n",
       "0   0.618094   0.178303  0.203603\n",
       "1   0.415555   0.164213  0.420231\n",
       "2   0.123722   0.219070  0.657208"
      ],
      "text/html": [
       "<div>\n",
       "<style scoped>\n",
       "    .dataframe tbody tr th:only-of-type {\n",
       "        vertical-align: middle;\n",
       "    }\n",
       "\n",
       "    .dataframe tbody tr th {\n",
       "        vertical-align: top;\n",
       "    }\n",
       "\n",
       "    .dataframe thead th {\n",
       "        text-align: right;\n",
       "    }\n",
       "</style>\n",
       "<table border=\"1\" class=\"dataframe\">\n",
       "  <thead>\n",
       "    <tr style=\"text-align: right;\">\n",
       "      <th></th>\n",
       "      <th>unspliced</th>\n",
       "      <th>partially</th>\n",
       "      <th>spliced</th>\n",
       "    </tr>\n",
       "  </thead>\n",
       "  <tbody>\n",
       "    <tr>\n",
       "      <th>0</th>\n",
       "      <td>0.618094</td>\n",
       "      <td>0.178303</td>\n",
       "      <td>0.203603</td>\n",
       "    </tr>\n",
       "    <tr>\n",
       "      <th>1</th>\n",
       "      <td>0.415555</td>\n",
       "      <td>0.164213</td>\n",
       "      <td>0.420231</td>\n",
       "    </tr>\n",
       "    <tr>\n",
       "      <th>2</th>\n",
       "      <td>0.123722</td>\n",
       "      <td>0.219070</td>\n",
       "      <td>0.657208</td>\n",
       "    </tr>\n",
       "  </tbody>\n",
       "</table>\n",
       "</div>"
      ]
     },
     "metadata": {},
     "execution_count": 67
    }
   ],
   "metadata": {
    "execution": {
     "iopub.execute_input": "2021-05-15T07:39:54.587121Z",
     "iopub.status.busy": "2021-05-15T07:39:54.586844Z",
     "iopub.status.idle": "2021-05-15T07:39:54.601208Z",
     "shell.execute_reply": "2021-05-15T07:39:54.600523Z",
     "shell.execute_reply.started": "2021-05-15T07:39:54.587088Z"
    }
   }
  },
  {
   "cell_type": "code",
   "execution_count": 31,
   "source": [
    "bar_width = 0.5\n",
    "r = [0, 1, 2]\n",
    "bottom = np.zeros(len(r))\n",
    "names = ['Readthrough', 'Cleaved', 'Polyadenylated']\n",
    "labels = ['Fully unspliced', 'Partially spliced', 'Fully spliced']\n",
    "colors = ['#4C72B0', '#55A868', '#C44E52']\n",
    "\n",
    "plt.figure(figsize=(4, 3))\n",
    "n = 0\n",
    "for item in splicing_status.T.values:\n",
    "    plt.bar(r, item, width=bar_width, bottom=bottom, label=labels[n], color=colors[n])\n",
    "    bottom += item\n",
    "    n += 1\n",
    "    \n",
    "plt.xticks(r, names)\n",
    "plt.ylabel('Fraction of reads')\n",
    "#plt.xlim(-.5,1.5)\n",
    "\n",
    "# plt.style.use('default')\n",
    "plt.legend(bbox_to_anchor=(.5, .5, 1.1, .2), frameon=False, ncol=1)\n",
    "sns.despine(top=True, right=True)"
   ],
   "outputs": [
    {
     "output_type": "display_data",
     "data": {
      "text/plain": [
       "<Figure size 288x216 with 1 Axes>"
      ],
      "image/png": "[encoded data removed]"
     },
     "metadata": {
      "image/png": {
       "height": 195,
       "width": 404
      },
      "needs_background": "light"
     }
    }
   ],
   "metadata": {
    "execution": {
     "iopub.execute_input": "2021-03-16T07:52:00.037012Z",
     "iopub.status.busy": "2021-03-16T07:52:00.036645Z",
     "iopub.status.idle": "2021-03-16T07:52:00.303406Z",
     "shell.execute_reply": "2021-03-16T07:52:00.302362Z",
     "shell.execute_reply.started": "2021-03-16T07:52:00.036966Z"
    },
    "jupyter": {
     "outputs_hidden": true,
     "source_hidden": true
    }
   }
  },
  {
   "cell_type": "code",
   "execution_count": 82,
   "source": [
    "bar_width = 0.5\n",
    "r = [0, 1, 2]\n",
    "bottom = np.zeros(len(r))\n",
    "names = ['Readthrough\\ntranscripts', '5\\' cleavage\\nproducts', 'Poly(A)\\ntranscripts']\n",
    "labels = ['Fully unspliced', 'Partially spliced', 'Fully spliced']\n",
    "colors = ['#4C72B0', '#55A868', '#C44E52']\n",
    "\n",
    "fig, ax = plt.subplots(\n",
    "    2, 1, \n",
    "    figsize=(4, 3),\n",
    "    gridspec_kw={'height_ratios': [.1, 3]},\n",
    ")\n",
    "n = 0\n",
    "bar = []\n",
    "for item in splicing_status.T.values:\n",
    "    bar.append(ax[1].barh(r, item, height=bar_width, left=bottom, label=labels[n], color=colors[n]))\n",
    "    bottom += item\n",
    "    n += 1\n",
    "    \n",
    "plt.yticks(r, names)\n",
    "plt.xlabel('Fraction of reads')\n",
    "sns.despine(top=True, right=True)\n",
    "#plt.xlim(-.5,1.5)\n",
    "ax[1].invert_yaxis()\n",
    "\n",
    "# plt.style.use('default')\n",
    "# ax[0].legend(bar, labels, frameon=False, ncol=2)\n",
    "ax[1].legend(bar, labels, frameon=False, bbox_to_anchor=(1, .8, 0, 0))\n",
    "# set legend\n",
    "ax[0].spines['right'].set_visible(False)\n",
    "ax[0].spines['left'].set_visible(False)\n",
    "ax[0].spines['top'].set_visible(False)\n",
    "ax[0].spines['bottom'].set_visible(False)\n",
    "ax[0].yaxis.set_major_locator(ticker.NullLocator())\n",
    "ax[0].xaxis.set_major_locator(ticker.NullLocator())\n",
    "\n",
    "#sns.despine(top=True, right=True)\n",
    "plt.savefig('a.svg')"
   ],
   "outputs": [
    {
     "output_type": "display_data",
     "data": {
      "text/plain": [
       "<Figure size 288x216 with 2 Axes>"
      ],
      "image/png": "[encoded data removed]"
     },
     "metadata": {
      "image/png": {
       "height": 211,
       "width": 446
      },
      "needs_background": "light"
     }
    }
   ],
   "metadata": {
    "execution": {
     "iopub.execute_input": "2021-05-15T08:02:39.865313Z",
     "iopub.status.busy": "2021-05-15T08:02:39.864968Z",
     "iopub.status.idle": "2021-05-15T08:02:40.237624Z",
     "shell.execute_reply": "2021-05-15T08:02:40.237029Z",
     "shell.execute_reply.started": "2021-05-15T08:02:39.865270Z"
    }
   }
  },
  {
   "cell_type": "code",
   "execution_count": null,
   "source": [],
   "outputs": [],
   "metadata": {}
  },
  {
   "cell_type": "markdown",
   "source": [
    "# readthrough distance vs splicing ratio"
   ],
   "metadata": {}
  },
  {
   "cell_type": "code",
   "execution_count": 24,
   "source": [
    "STRAND_TO_BOOL = {'-': True, '+': False}\n",
    "def readthrough_splicing_kinetics(infile, gene_id, bw=100):\n",
    "    '''\n",
    "    计算readthrough长度与splicing kinetics的关系\n",
    "    '''\n",
    "    chrom, start, end, _, gene_strand = gene_model.loc[gene_id]\n",
    "    \n",
    "    spliced_ratio = defaultdict(lambda : Counter())\n",
    "    n = 0\n",
    "    with pysam.AlignmentFile(infile, 'rb') as inbam:\n",
    "        for read in inbam.fetch(chrom, start, end):\n",
    "            intron_count = read.get_tag('sn')  # span_intron_num\n",
    "            unsplice_count = read.get_tag('rn')  # retention_intron_num\n",
    "            unsplice_intron = read.get_tag('ri')  # retention_introns\n",
    "            if intron_count == 0:\n",
    "                continue\n",
    "            \n",
    "            polya_len = read.get_tag('pa')\n",
    "            gap = read.get_tag('ga')\n",
    "            read_gene_id = read.get_tag('gi')\n",
    "            \n",
    "            if polya_len > 15 or gap >= 5 or read_gene_id != gene_id:\n",
    "                continue\n",
    "            \n",
    "            if gene_strand == '-':\n",
    "                five_end = read.reference_end*-1\n",
    "                three_end = read.reference_start*-1\n",
    "                pa_site = last_pa.at[gene_id, 'End']*-1\n",
    "            else:\n",
    "                five_end = read.reference_start\n",
    "                three_end = read.reference_end\n",
    "                pa_site = last_pa.at[gene_id, 'End']\n",
    "\n",
    "            distance = three_end-pa_site\n",
    "            if distance > 50:\n",
    "                n += 1\n",
    "                distance_ = (distance//bw+1)*bw\n",
    "                spliced_ratio[distance_]['spliced'] += intron_count-unsplice_count\n",
    "                spliced_ratio[distance_]['total_count'] += intron_count\n",
    "    if n >= 10:\n",
    "        return dict(spliced_ratio)"
   ],
   "outputs": [],
   "metadata": {
    "execution": {
     "iopub.execute_input": "2021-05-15T07:13:22.116288Z",
     "iopub.status.busy": "2021-05-15T07:13:22.115904Z",
     "iopub.status.idle": "2021-05-15T07:13:22.134454Z",
     "shell.execute_reply": "2021-05-15T07:13:22.133655Z",
     "shell.execute_reply.started": "2021-05-15T07:13:22.116242Z"
    },
    "jupyter": {
     "source_hidden": true
    }
   }
  },
  {
   "cell_type": "code",
   "execution_count": null,
   "source": [
    "def readthrough_splicing_kinetics_turbo(infile, gene_list, threads=64):\n",
    "    results = []\n",
    "    with ProcessPoolExecutor(max_workers=64) as e:\n",
    "        results.append(e.submit(readthrough_splicing_kinetics, repeat(infile), gene_list))\n",
    "    \n",
    "    x, y = [], []\n",
    "    for res in results:\n",
    "        result = res.result()\n",
    "        if result is not None:\n",
    "            for distance in result:\n",
    "                x.append(distance)\n",
    "                y.append(result[distance]['spliced']/(result[distance]['total_count']))\n",
    "\n",
    "    x = np.array(x)\n",
    "    y = np.array(y)\n",
    "    \n",
    "    return x, y"
   ],
   "outputs": [],
   "metadata": {
    "jupyter": {
     "source_hidden": true
    }
   }
  },
  {
   "cell_type": "code",
   "execution_count": 50,
   "source": [
    "def readthrough_splicing_kinetics(infile, gene_id, after=500, bw=100):\n",
    "    \n",
    "    chrom, start, end, _, strand = gene_model.loc[gene_id]\n",
    "    if chrom in {'Pt', 'Mt'}:\n",
    "        return None\n",
    "\n",
    "    target_site = get_target_site('PAS', gene_id)\n",
    "    if strand == '+':\n",
    "        start = target_site\n",
    "        end = target_site+after\n",
    "    else:\n",
    "        start = target_site-after\n",
    "        end = target_site\n",
    "    \n",
    "    spliced_ratio = defaultdict(lambda : Counter())\n",
    "    n = 0\n",
    "    \n",
    "    with pysam.AlignmentFile(infile, 'rb') as inbam:\n",
    "        for read in inbam.fetch(chrom, start, end):\n",
    "            intron_count = read.get_tag('sn')  # span_intron_num\n",
    "            unsplice_count = read.get_tag('rn')  # retention_intron_num\n",
    "            unsplice_intron = read.get_tag('ri')  # retention_introns\n",
    "            if intron_count == 0:\n",
    "                continue\n",
    "                \n",
    "            read_gene_id = read.get_tag('gi')\n",
    "            polya_len = read.get_tag('pa')\n",
    "            if read_gene_id not in {gene_id}:\n",
    "                continue\n",
    "                \n",
    "            # get readthrough length\n",
    "            if strand == '+':\n",
    "                read_three_end = read.reference_end\n",
    "                readthrough_len = read_three_end-target_site\n",
    "            else:\n",
    "                read_three_end = read.reference_start\n",
    "                readthrough_len = target_site-read_three_end\n",
    "            \n",
    "            if readthrough_len > 50:\n",
    "                n += 1\n",
    "                # distance_ = (readthrough_len//bw+1)*bw\n",
    "                distance_ = round(readthrough_len/bw)*bw\n",
    "                spliced_ratio[distance_]['spliced'] += intron_count-unsplice_count\n",
    "                spliced_ratio[distance_]['total_count'] += intron_count\n",
    "                \n",
    "    if n >= 15:\n",
    "        return dict(spliced_ratio)\n",
    "\n",
    "\n",
    "def readthrough_splicing_kinetics_turbo(infile, gene_list, threads=64):\n",
    "    results = []\n",
    "    with ProcessPoolExecutor(max_workers=threads) as e:\n",
    "        chunksize = int(len(gene_list)/threads)\n",
    "        results = e.map(readthrough_splicing_kinetics, repeat(infile), gene_list, chunksize=chunksize)\n",
    "    \n",
    "    x, y = [], []\n",
    "    for res in results:\n",
    "        if res is not None:\n",
    "            for distance in res:\n",
    "                x.append(distance)\n",
    "                y.append(res[distance]['spliced']/(res[distance]['total_count']))\n",
    "                \n",
    "    x = np.array(x)\n",
    "    y = np.array(y)\n",
    "    \n",
    "    return x, y"
   ],
   "outputs": [],
   "metadata": {
    "execution": {
     "iopub.execute_input": "2021-06-06T08:26:55.171611Z",
     "iopub.status.busy": "2021-06-06T08:26:55.171144Z",
     "iopub.status.idle": "2021-06-06T08:26:55.373462Z",
     "shell.execute_reply": "2021-06-06T08:26:55.372700Z",
     "shell.execute_reply.started": "2021-06-06T08:26:55.171550Z"
    }
   }
  },
  {
   "cell_type": "code",
   "execution_count": 51,
   "source": [
    "infile = '/public/home/mowp/workspace/termination/cbRNA_pool/elongating_data/cbRNA.elongating.bam'\n",
    "wt_x, wt_y = readthrough_splicing_kinetics_turbo(infile, all_gene)"
   ],
   "outputs": [],
   "metadata": {
    "execution": {
     "iopub.execute_input": "2021-06-06T08:26:57.395639Z",
     "iopub.status.busy": "2021-06-06T08:26:57.395236Z",
     "iopub.status.idle": "2021-06-06T08:27:00.726217Z",
     "shell.execute_reply": "2021-06-06T08:27:00.725374Z",
     "shell.execute_reply.started": "2021-06-06T08:26:57.395587Z"
    }
   }
  },
  {
   "cell_type": "code",
   "execution_count": 52,
   "source": [
    "xlim = 1000\n",
    "\n",
    "plt.figure(figsize=(4, 3))\n",
    "mask = wt_x <= xlim\n",
    "sns.lineplot(wt_x[mask], wt_y[mask], markers=True)\n",
    "# plt.ylim(0, 1)\n",
    "plt.ylabel('Percentage of spliced introns (%)')\n",
    "plt.xlabel('Readthrough distance (nt)')\n",
    "\n",
    "\n",
    "def to_percent(temp, position):\n",
    "    return '%1.0f'%(100*temp)\n",
    "\n",
    "plt.gca().yaxis.set_major_formatter(ticker.FuncFormatter(to_percent))\n",
    "plt.xticks(np.linspace(100, 1000, 4, dtype='int'))\n",
    "sns.despine(top=True, right=True)"
   ],
   "outputs": [
    {
     "output_type": "stream",
     "name": "stderr",
     "text": [
      "/public/home/mowp/miniconda3/lib/python3.7/site-packages/seaborn/_decorators.py:43: FutureWarning: Pass the following variables as keyword args: x, y. From version 0.12, the only valid positional argument will be `data`, and passing other arguments without an explicit keyword will result in an error or misinterpretation.\n",
      "  FutureWarning\n"
     ]
    },
    {
     "output_type": "display_data",
     "data": {
      "text/plain": [
       "<Figure size 288x216 with 1 Axes>"
      ],
      "image/png": "[encoded data removed]"
     },
     "metadata": {
      "image/png": {
       "height": 218,
       "width": 276
      },
      "needs_background": "light"
     }
    }
   ],
   "metadata": {
    "execution": {
     "iopub.execute_input": "2021-06-06T08:27:03.785319Z",
     "iopub.status.busy": "2021-06-06T08:27:03.784912Z",
     "iopub.status.idle": "2021-06-06T08:27:05.084619Z",
     "shell.execute_reply": "2021-06-06T08:27:05.084031Z",
     "shell.execute_reply.started": "2021-06-06T08:27:03.785262Z"
    }
   }
  },
  {
   "cell_type": "code",
   "execution_count": null,
   "source": [],
   "outputs": [],
   "metadata": {}
  }
 ],
 "metadata": {
  "kernelspec": {
   "display_name": "Python 3",
   "language": "python",
   "name": "python3"
  },
  "language_info": {
   "codemirror_mode": {
    "name": "ipython",
    "version": 3
   },
   "file_extension": ".py",
   "mimetype": "text/x-python",
   "name": "python",
   "nbconvert_exporter": "python",
   "pygments_lexer": "ipython3",
   "version": "3.8.8"
  },
  "toc": {
   "base_numbering": 1,
   "nav_menu": {},
   "number_sections": true,
   "sideBar": true,
   "skip_h1_title": false,
   "title_cell": "Table of Contents",
   "title_sidebar": "Contents",
   "toc_cell": false,
   "toc_position": {},
   "toc_section_display": true,
   "toc_window_display": true
  },
  "toc-autonumbering": true,
  "toc-showcode": false,
  "toc-showmarkdowntxt": false
 },
 "nbformat": 4,
 "nbformat_minor": 4
}