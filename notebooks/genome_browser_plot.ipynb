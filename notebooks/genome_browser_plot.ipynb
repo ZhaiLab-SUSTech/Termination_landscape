{
 "cells": [
  {
   "cell_type": "code",
   "execution_count": 1,
   "metadata": {
    "ExecuteTime": {
     "end_time": "2021-07-14T07:20:08.639751Z",
     "start_time": "2021-07-14T07:19:52.816035Z"
    },
    "execution": {
     "iopub.execute_input": "2021-06-08T06:06:39.273276Z",
     "iopub.status.busy": "2021-06-08T06:06:39.272970Z",
     "iopub.status.idle": "2021-06-08T06:06:39.349671Z",
     "shell.execute_reply": "2021-06-08T06:06:39.348888Z",
     "shell.execute_reply.started": "2021-06-08T06:06:39.273229Z"
    }
   },
   "outputs": [],
   "source": [
    "%config InlineBackend.figure_format = 'retina'\n",
    "\n",
    "from matplotlib import pyplot as plt\n",
    "import matplotlib.ticker as ticker\n",
    "import matplotlib.font_manager as font_manager\n",
    "import matplotlib as mpl\n",
    "import matplotlib.patches as mp\n",
    "import seaborn as sns\n",
    "\n",
    "font_dirs = [\"/public/home/mowp/test/fonts/\"]\n",
    "font_files = font_manager.findSystemFonts(fontpaths=font_dirs)\n",
    "\n",
    "for font_file in font_files:\n",
    "    font_manager.fontManager.addfont(font_file)\n",
    "    \n",
    "plt.rcParams[\"font.family\"] = \"Arial\"\n",
    "plt.rcParams['font.size'] = 12\n",
    "plt.rcParams['svg.fonttype'] = 'none'"
   ]
  },
  {
   "cell_type": "code",
   "execution_count": 2,
   "metadata": {
    "ExecuteTime": {
     "end_time": "2021-07-14T07:20:08.649147Z",
     "start_time": "2021-07-14T07:20:08.645775Z"
    },
    "execution": {
     "iopub.execute_input": "2021-06-03T13:12:25.698763Z",
     "iopub.status.busy": "2021-06-03T13:12:25.698394Z",
     "iopub.status.idle": "2021-06-03T13:12:25.703497Z",
     "shell.execute_reply": "2021-06-03T13:12:25.702557Z",
     "shell.execute_reply.started": "2021-06-03T13:12:25.698712Z"
    }
   },
   "outputs": [],
   "source": [
    "import pandas as pd\n",
    "import numpy as np"
   ]
  },
  {
   "cell_type": "code",
   "execution_count": 3,
   "metadata": {
    "ExecuteTime": {
     "end_time": "2021-07-14T07:20:09.051798Z",
     "start_time": "2021-07-14T07:20:08.657797Z"
    },
    "execution": {
     "iopub.execute_input": "2021-06-03T13:12:25.706253Z",
     "iopub.status.busy": "2021-06-03T13:12:25.705893Z",
     "iopub.status.idle": "2021-06-03T13:12:26.075863Z",
     "shell.execute_reply": "2021-06-03T13:12:26.074910Z",
     "shell.execute_reply.started": "2021-06-03T13:12:25.706205Z"
    }
   },
   "outputs": [],
   "source": [
    "araport11_isoform_path = '/public/home/mowp/db/Arabidopsis_thaliana/representative_gene_model/araport11.representative.gene_model.bed'\n",
    "araport11_isoform = pd.read_csv(araport11_isoform_path, sep='\\t', \n",
    "                                names=['chrom', 'chromStart', 'chromEnd', 'name', \n",
    "                                       'score', 'strand', 'thickStart', 'thickEnd', \n",
    "                                       'itemRgb', 'blockCount', 'blockSizes', 'blockStarts']\n",
    "                               )\n",
    "araport11_isoform['gene_id'] = araport11_isoform['name'].map(lambda x: x.split('.')[0])\n",
    "araport11_isoform.set_index('gene_id', inplace=True)"
   ]
  },
  {
   "cell_type": "code",
   "execution_count": 4,
   "metadata": {
    "ExecuteTime": {
     "end_time": "2021-07-14T07:20:09.058177Z",
     "start_time": "2021-07-14T07:20:09.054530Z"
    },
    "execution": {
     "iopub.execute_input": "2021-06-03T13:12:26.077604Z",
     "iopub.status.busy": "2021-06-03T13:12:26.077310Z",
     "iopub.status.idle": "2021-06-03T13:12:26.081271Z",
     "shell.execute_reply": "2021-06-03T13:12:26.080527Z",
     "shell.execute_reply.started": "2021-06-03T13:12:26.077565Z"
    }
   },
   "outputs": [],
   "source": [
    "import sys\n",
    "sys.path.append('/public/home/mowp/workspace/termination/cbRNA_pool/script/')"
   ]
  },
  {
   "cell_type": "code",
   "execution_count": 5,
   "metadata": {
    "ExecuteTime": {
     "end_time": "2021-07-14T07:20:10.118085Z",
     "start_time": "2021-07-14T07:20:09.060832Z"
    },
    "execution": {
     "iopub.execute_input": "2021-06-03T13:12:26.082833Z",
     "iopub.status.busy": "2021-06-03T13:12:26.082562Z",
     "iopub.status.idle": "2021-06-03T13:12:30.276997Z",
     "shell.execute_reply": "2021-06-03T13:12:30.276048Z",
     "shell.execute_reply.started": "2021-06-03T13:12:26.082795Z"
    }
   },
   "outputs": [],
   "source": [
    "%load_ext autoreload\n",
    "%autoreload 1\n",
    "%aimport igv"
   ]
  },
  {
   "cell_type": "code",
   "execution_count": 6,
   "metadata": {
    "ExecuteTime": {
     "end_time": "2021-07-14T07:20:10.218846Z",
     "start_time": "2021-07-14T07:20:10.122365Z"
    },
    "execution": {
     "iopub.execute_input": "2021-06-03T13:12:30.278885Z",
     "iopub.status.busy": "2021-06-03T13:12:30.278536Z",
     "iopub.status.idle": "2021-06-03T13:12:30.372154Z",
     "shell.execute_reply": "2021-06-03T13:12:30.371278Z",
     "shell.execute_reply.started": "2021-06-03T13:12:30.278838Z"
    }
   },
   "outputs": [],
   "source": [
    "%store -r output_res"
   ]
  },
  {
   "cell_type": "markdown",
   "metadata": {
    "heading_collapsed": true
   },
   "source": [
    "# long and short termination window example"
   ]
  },
  {
   "cell_type": "markdown",
   "metadata": {
    "hidden": true
   },
   "source": [
    "## long"
   ]
  },
  {
   "cell_type": "code",
   "execution_count": 225,
   "metadata": {
    "execution": {
     "iopub.execute_input": "2021-05-28T03:02:35.254346Z",
     "iopub.status.busy": "2021-05-28T03:02:35.253808Z",
     "iopub.status.idle": "2021-05-28T03:02:36.655582Z",
     "shell.execute_reply": "2021-05-28T03:02:36.654875Z",
     "shell.execute_reply.started": "2021-05-28T03:02:35.254278Z"
    },
    "hidden": true
   },
   "outputs": [
    {
     "name": "stdout",
     "output_type": "stream",
     "text": [
      "n = 158\n"
     ]
    },
    {
     "data": {
      "image/png": "[encoded data removed]",
      "text/plain": [
       "<Figure size 252x216 with 2 Axes>"
      ]
     },
     "metadata": {
      "image/png": {
       "height": 195,
       "width": 266
      },
      "needs_background": "light"
     },
     "output_type": "display_data"
    }
   ],
   "source": [
    "# get gene info\n",
    "gene_id = 'AT1G62820'\n",
    "chrom, start, end, mRNA_id, _, strand, *_ = araport11_isoform.loc[gene_id]\n",
    "gene_id, chrom, pas, strand, tw_len, max_tw_len, start, end = output_res.query('gene_id == @gene_id').values[0]\n",
    "if strand == '+':\n",
    "    end = pas+500\n",
    "else:\n",
    "    start = pas-500\n",
    "\n",
    "# plotting\n",
    "igv_plot = igv.IGV(chrom, start, end, strand=strand)\n",
    "\n",
    "araport11_isoform_path = '/public/home/mowp/db/Arabidopsis_thaliana/representative_gene_model/araport11.representative.gene_model.bed.gz'\n",
    "igv_plot.add_gene_model(\n",
    "    araport11_isoform_path,\n",
    "    gene_list = {mRNA_id},\n",
    ")\n",
    "\n",
    "infile = '/public/home/mowp/workspace/termination/cbRNA_pool/elongating_data/cbRNA.elongating.bam'\n",
    "if strand == '-':\n",
    "    igv_plot.add_bam(\n",
    "        infile,\n",
    "        gene_list = {gene_id, 'None'},\n",
    "        method='3_end',\n",
    "        filter_strand = strand,\n",
    "        start_before=pas-50,\n",
    "    )\n",
    "\n",
    "else:\n",
    "    igv_plot.add_bam(\n",
    "        infile,\n",
    "        gene_list = {gene_id, 'None'},\n",
    "        method='3_end',\n",
    "        filter_strand = strand,\n",
    "        end_after = pas+50\n",
    "    )\n",
    "\n",
    "ax = igv_plot.plot(\n",
    "    height=3, width=3.5,\n",
    "    # polya_site='/public/home/mowp/workspace/termination/cbRNA_pool/polya_sites/cbRNA.last_polya_cluster_summit.bed.gz',\n",
    "    extend_xlim_end=True,\n",
    "    gene_track_height=1\n",
    ")\n",
    "ax[1].axvline(pas, ls=\"--\", color=\"#555555\")\n",
    "\n",
    "if strand == '-':\n",
    "    plt.xlim(pas+200)\n",
    "else:\n",
    "    plt.xlim(pas-200)\n",
    "    \n",
    "xlim = plt.xlim()\n",
    "# plt.tight_layout()\n",
    "plt.savefig(f'{gene_id}.partial.svg')\n",
    "\n",
    "for bam_list in igv_plot.bam_list:\n",
    "    print(f'n = {len(bam_list)}')"
   ]
  },
  {
   "cell_type": "code",
   "execution_count": 226,
   "metadata": {
    "execution": {
     "iopub.execute_input": "2021-05-28T03:02:51.002188Z",
     "iopub.status.busy": "2021-05-28T03:02:51.001718Z",
     "iopub.status.idle": "2021-05-28T03:02:51.220553Z",
     "shell.execute_reply": "2021-05-28T03:02:51.219878Z",
     "shell.execute_reply.started": "2021-05-28T03:02:51.002129Z"
    },
    "hidden": true
   },
   "outputs": [
    {
     "data": {
      "image/png": "[encoded data removed]",
      "text/plain": [
       "<Figure size 252x72 with 1 Axes>"
      ]
     },
     "metadata": {
      "image/png": {
       "height": 102,
       "width": 221
      },
      "needs_background": "light"
     },
     "output_type": "display_data"
    }
   ],
   "source": [
    "if strand == '-':\n",
    "    readthrough_len = pas - igv_plot.bam_list[0]['start']\n",
    "else:\n",
    "    readthrough_len = igv_plot.bam_list[0]['end'] - pas\n",
    "\n",
    "plt.figure(figsize=(3.5, 1))\n",
    "plt.boxplot(readthrough_len, widths=.3, showfliers = False, labels=[''], vert=False)\n",
    "plt.xlabel('Readthrough distance (nt)')\n",
    "plt.xlim(-200, pas-xlim[1])\n",
    "sns.despine(top=True, right=True, left=True)\n",
    "plt.savefig(f'{gene_id}.boxplot.svg')"
   ]
  },
  {
   "cell_type": "code",
   "execution_count": null,
   "metadata": {
    "hidden": true
   },
   "outputs": [],
   "source": []
  },
  {
   "cell_type": "markdown",
   "metadata": {
    "hidden": true
   },
   "source": [
    "## short"
   ]
  },
  {
   "cell_type": "code",
   "execution_count": 242,
   "metadata": {
    "execution": {
     "iopub.execute_input": "2021-05-28T04:18:06.361066Z",
     "iopub.status.busy": "2021-05-28T04:18:06.360409Z",
     "iopub.status.idle": "2021-05-28T04:18:07.770811Z",
     "shell.execute_reply": "2021-05-28T04:18:07.769802Z",
     "shell.execute_reply.started": "2021-05-28T04:18:06.360980Z"
    },
    "hidden": true
   },
   "outputs": [
    {
     "name": "stdout",
     "output_type": "stream",
     "text": [
      "n = 113\n"
     ]
    },
    {
     "data": {
      "image/png": "[encoded data removed]",
      "text/plain": [
       "<Figure size 252x216 with 2 Axes>"
      ]
     },
     "metadata": {
      "image/png": {
       "height": 180,
       "width": 877
      },
      "needs_background": "light"
     },
     "output_type": "display_data"
    }
   ],
   "source": [
    "# get gene info\n",
    "gene_id = 'AT3G51730'\n",
    "chrom, start, end, mRNA_id, _, strand, *_ = araport11_isoform.loc[gene_id]\n",
    "gene_id, chrom, pas, strand, tw_len, max_tw_len, start, end = output_res.query('gene_id == @gene_id').values[0]\n",
    "if strand == '+':\n",
    "    end = pas+500\n",
    "else:\n",
    "    start = pas-500\n",
    "\n",
    "# plotting\n",
    "igv_plot = igv.IGV(chrom, start, end, strand=strand)\n",
    "\n",
    "araport11_isoform_path = '/public/home/mowp/db/Arabidopsis_thaliana/representative_gene_model/araport11.representative.gene_model.bed.gz'\n",
    "igv_plot.add_gene_model(\n",
    "    araport11_isoform_path,\n",
    "    gene_list = {mRNA_id},\n",
    ")\n",
    "\n",
    "infile = '/public/home/mowp/workspace/termination/cbRNA_pool/elongating_data/cbRNA.elongating.bam'\n",
    "if strand == '-':\n",
    "    igv_plot.add_bam(\n",
    "        infile,\n",
    "        gene_list = {gene_id, 'None'},\n",
    "        method='3_end',\n",
    "        filter_strand = strand,\n",
    "        start_before=pas-50,\n",
    "    )\n",
    "\n",
    "else:\n",
    "    igv_plot.add_bam(\n",
    "        infile,\n",
    "        gene_list = {gene_id, 'None'},\n",
    "        method='3_end',\n",
    "        filter_strand = strand,\n",
    "        end_after = pas+50\n",
    "    )\n",
    "\n",
    "ax = igv_plot.plot(\n",
    "    height=3, width=3.5,\n",
    "    # polya_site='/public/home/mowp/workspace/termination/cbRNA_pool/polya_sites/cbRNA.last_polya_cluster_summit.bed.gz',\n",
    "    extend_xlim_end=True,\n",
    "    gene_track_height=1\n",
    ")\n",
    "ax[1].axvline(pas, ls=\"--\", color=\"#555555\")\n",
    "\n",
    "if strand == '-':\n",
    "    plt.xlim(pas+200)\n",
    "else:\n",
    "    plt.xlim(pas-200)\n",
    "    \n",
    "xlim = plt.xlim()\n",
    "xlim = plt.xlim(xlim[0], max(igv_plot.bam_list[0]['end']))\n",
    "# plt.tight_layout()\n",
    "plt.savefig(f'{gene_id}.partial.svg')\n",
    "\n",
    "for bam_list in igv_plot.bam_list:\n",
    "    print(f'n = {len(bam_list)}')"
   ]
  },
  {
   "cell_type": "code",
   "execution_count": 243,
   "metadata": {
    "execution": {
     "iopub.execute_input": "2021-05-28T04:18:12.594470Z",
     "iopub.status.busy": "2021-05-28T04:18:12.593980Z",
     "iopub.status.idle": "2021-05-28T04:18:12.816417Z",
     "shell.execute_reply": "2021-05-28T04:18:12.815649Z",
     "shell.execute_reply.started": "2021-05-28T04:18:12.594395Z"
    },
    "hidden": true
   },
   "outputs": [
    {
     "data": {
      "image/png": "[encoded data removed]",
      "text/plain": [
       "<Figure size 252x72 with 1 Axes>"
      ]
     },
     "metadata": {
      "image/png": {
       "height": 102,
       "width": 223
      },
      "needs_background": "light"
     },
     "output_type": "display_data"
    }
   ],
   "source": [
    "if strand == '-':\n",
    "    readthrough_len = pas - igv_plot.bam_list[0]['start']\n",
    "else:\n",
    "    readthrough_len = igv_plot.bam_list[0]['end'] - pas\n",
    "\n",
    "plt.figure(figsize=(3.5, 1))\n",
    "plt.boxplot(readthrough_len, widths=.3, showfliers = False, labels=[''], vert=False)\n",
    "plt.xlabel('Readthrough distance (nt)')\n",
    "plt.xlim(-200, xlim[1]-pas)\n",
    "sns.despine(top=True, right=True, left=True)\n",
    "plt.savefig(f'{gene_id}.boxplot.svg')"
   ]
  },
  {
   "cell_type": "markdown",
   "metadata": {
    "heading_collapsed": true
   },
   "source": [
    "# median vs longest example"
   ]
  },
  {
   "cell_type": "code",
   "execution_count": 113,
   "metadata": {
    "execution": {
     "iopub.execute_input": "2021-05-16T07:33:44.293801Z",
     "iopub.status.busy": "2021-05-16T07:33:44.293526Z",
     "iopub.status.idle": "2021-05-16T07:33:48.477330Z",
     "shell.execute_reply": "2021-05-16T07:33:48.476647Z",
     "shell.execute_reply.started": "2021-05-16T07:33:44.293769Z"
    },
    "hidden": true
   },
   "outputs": [
    {
     "name": "stdout",
     "output_type": "stream",
     "text": [
      "n = 373\n",
      "n = 160\n"
     ]
    },
    {
     "data": {
      "image/png": "[encoded data removed]",
      "text/plain": [
       "<Figure size 252x288 with 3 Axes>"
      ]
     },
     "metadata": {
      "image/png": {
       "height": 277,
       "width": 239
      },
      "needs_background": "light"
     },
     "output_type": "display_data"
    }
   ],
   "source": [
    "# get gene info\n",
    "chrom, start, end, mRNA_id, _, strand, *_ = araport11_isoform.loc['AT3G44260']\n",
    "gene_id = mRNA_id.split('.')[0]\n",
    "start = 15951220\n",
    "pas = 15952069\n",
    "\n",
    "# plotting\n",
    "igv_plot = igv.IGV(chrom, start, end, strand=strand)\n",
    "\n",
    "araport11_isoform_path = '/public/home/mowp/db/Arabidopsis_thaliana/representative_gene_model/araport11.representative.gene_model.bed.gz'\n",
    "igv_plot.add_gene_model(\n",
    "    araport11_isoform_path,\n",
    "    gene_list = {mRNA_id},\n",
    ")\n",
    "\n",
    "infile = '/public/home/mowp/test/nanopore_test/cbRNA_3/elongating_data/cbRNA_3.elongating.bam'\n",
    "igv_plot.add_bam(\n",
    "    infile,\n",
    "    #gene_list = {gene_id},\n",
    "    method='3_end',\n",
    "    filter_strand = strand,\n",
    "    #end_after = pas+50\n",
    "    start_before=pas-50,\n",
    ")\n",
    "\n",
    "infile = '/public/home/mowp/test/nanopore_test/cbRNA_2/elongating_data/cbRNA_2.elongating.bam'\n",
    "igv_plot.add_bam(\n",
    "    infile,\n",
    "    #gene_list = {gene_id},\n",
    "    method='3_end',\n",
    "    filter_strand = strand,\n",
    "    #end_after = pas+50\n",
    "    start_before=pas-50,\n",
    ")\n",
    "\n",
    "igv_plot.plot(\n",
    "    height=4, width=3.5,\n",
    "    polya_site='/public/home/mowp/workspace/termination/cbRNA_pool/polya_sites/cbRNA.last_polya_cluster_summit.bed.gz',\n",
    "    extend_xlim_end=True,\n",
    "    gene_track_height=1\n",
    ")\n",
    "plt.tight_layout()\n",
    "plt.savefig('a.svg')\n",
    "\n",
    "for bam_list in igv_plot.bam_list:\n",
    "    print(f'n = {len(bam_list)}')"
   ]
  },
  {
   "cell_type": "code",
   "execution_count": 30,
   "metadata": {
    "execution": {
     "iopub.execute_input": "2021-06-08T06:19:34.360668Z",
     "iopub.status.busy": "2021-06-08T06:19:34.360318Z",
     "iopub.status.idle": "2021-06-08T06:19:38.523174Z",
     "shell.execute_reply": "2021-06-08T06:19:38.522421Z",
     "shell.execute_reply.started": "2021-06-08T06:19:34.360626Z"
    },
    "hidden": true
   },
   "outputs": [
    {
     "name": "stdout",
     "output_type": "stream",
     "text": [
      "n = 373\n",
      "n = 160\n"
     ]
    },
    {
     "data": {
      "image/png": "[encoded data removed]",
      "text/plain": [
       "<Figure size 252x216 with 3 Axes>"
      ]
     },
     "metadata": {
      "image/png": {
       "height": 195,
       "width": 355
      },
      "needs_background": "light"
     },
     "output_type": "display_data"
    }
   ],
   "source": [
    "# get gene info\n",
    "gene_id = 'AT3G44260'\n",
    "chrom, start, end, mRNA_id, _, strand, *_ = araport11_isoform.loc[gene_id]\n",
    "gene_id, chrom, pas, strand, tw_len, max_tw_len, start, end = output_res.query('gene_id == @gene_id').values[0]\n",
    "if strand == '+':\n",
    "    end = pas+500\n",
    "else:\n",
    "    start = pas-500\n",
    "\n",
    "# plotting\n",
    "igv_plot = igv.IGV(chrom, start, end, strand=strand)\n",
    "\n",
    "araport11_isoform_path = '/public/home/mowp/db/Arabidopsis_thaliana/representative_gene_model/araport11.representative.gene_model.bed.gz'\n",
    "igv_plot.add_gene_model(\n",
    "    araport11_isoform_path,\n",
    "    gene_list = {mRNA_id, 'AT5G11325.1'},\n",
    ")\n",
    "\n",
    "infile = '/public/home/mowp/test/nanopore_test/cbRNA_3/elongating_data/cbRNA_3.elongating.bam'\n",
    "if strand == '-':\n",
    "    igv_plot.add_bam(\n",
    "        infile,\n",
    "        gene_list = {gene_id, 'None'},\n",
    "        method='3_end',\n",
    "        filter_strand = strand,\n",
    "        start_before=pas-50,\n",
    "    )\n",
    "\n",
    "else:\n",
    "    igv_plot.add_bam(\n",
    "        infile,\n",
    "        gene_list = {gene_id, 'None'},\n",
    "        method='3_end',\n",
    "        filter_strand = strand,\n",
    "        end_after = pas+50\n",
    "    )\n",
    "\n",
    "infile = '/public/home/mowp/test/nanopore_test/cbRNA_2/elongating_data/cbRNA_2.elongating.bam'\n",
    "if strand == '-':\n",
    "    igv_plot.add_bam(\n",
    "        infile,\n",
    "        gene_list = {gene_id, 'None'},\n",
    "        method='3_end',\n",
    "        filter_strand = strand,\n",
    "        start_before=pas-50,\n",
    "    )\n",
    "\n",
    "else:\n",
    "    igv_plot.add_bam(\n",
    "        infile,\n",
    "        gene_list = {gene_id, 'None'},\n",
    "        method='3_end',\n",
    "        filter_strand = strand,\n",
    "        end_after = pas+50\n",
    "    )\n",
    "\n",
    "ax = igv_plot.plot(\n",
    "    height=3, width=3.5,\n",
    "    # polya_site='/public/home/mowp/workspace/termination/cbRNA_pool/polya_sites/cbRNA.last_polya_cluster_summit.bed.gz',\n",
    "    extend_xlim_end=True,\n",
    "    gene_track_height=1.5\n",
    ")\n",
    "ax[1].axvline(pas, ls=\"--\", color=\"#555555\")\n",
    "\n",
    "if strand == '-':\n",
    "    xlim = plt.xlim(pas+200, min(igv_plot.bam_list[0]['start']))\n",
    "else:\n",
    "    xlim = plt.xlim(pas-200, max(igv_plot.bam_list[0]['end']))\n",
    "\n",
    "# plt.tight_layout()\n",
    "plt.savefig(f'{gene_id}.partial.svg')\n",
    "\n",
    "for bam_list in igv_plot.bam_list:\n",
    "    print(f'n = {len(bam_list)}')"
   ]
  },
  {
   "cell_type": "code",
   "execution_count": 31,
   "metadata": {
    "execution": {
     "iopub.execute_input": "2021-06-08T06:19:53.175570Z",
     "iopub.status.busy": "2021-06-08T06:19:53.175208Z",
     "iopub.status.idle": "2021-06-08T06:19:53.402608Z",
     "shell.execute_reply": "2021-06-08T06:19:53.401916Z",
     "shell.execute_reply.started": "2021-06-08T06:19:53.175526Z"
    },
    "hidden": true
   },
   "outputs": [
    {
     "data": {
      "image/png": "[encoded data removed]",
      "text/plain": [
       "<Figure size 252x144 with 1 Axes>"
      ]
     },
     "metadata": {
      "image/png": {
       "height": 157,
       "width": 223
      },
      "needs_background": "light"
     },
     "output_type": "display_data"
    }
   ],
   "source": [
    "readthrough_len = []\n",
    "if strand == '-':\n",
    "    readthrough_len_ = pas - igv_plot.bam_list[0]['start']\n",
    "else:\n",
    "    readthrough_len_ = igv_plot.bam_list[0]['end'] - pas\n",
    "readthrough_len.append(readthrough_len_)\n",
    "\n",
    "if strand == '-':\n",
    "    readthrough_len_ = pas - igv_plot.bam_list[1]['start']\n",
    "else:\n",
    "    readthrough_len_ = igv_plot.bam_list[1]['end'] - pas\n",
    "readthrough_len.append(readthrough_len_)\n",
    "\n",
    "plt.figure(figsize=(3.5, 2))\n",
    "\n",
    "flierprops = dict(marker='o', markersize=3, markerfacecolor='k', markeredgecolor='none')\n",
    "\n",
    "plt.boxplot(readthrough_len, widths=.3, showfliers = True, flierprops=flierprops, vert=False)\n",
    "plt.xlabel('Readthrough distance (nt)')\n",
    "if strand == '-':\n",
    "    plt.xlim(-200, pas-xlim[1])\n",
    "else:\n",
    "    plt.xlim(-200, xlim[1]-pas)\n",
    "\n",
    "# if strand == '-':\n",
    "#     plt.xlim(-200)\n",
    "# else:\n",
    "#     plt.xlim(-200)\n",
    "\n",
    "sns.despine(top=True, right=True, left=True)\n",
    "plt.savefig(f'{gene_id}.boxplot.svg')"
   ]
  },
  {
   "cell_type": "code",
   "execution_count": null,
   "metadata": {
    "hidden": true
   },
   "outputs": [],
   "source": []
  },
  {
   "cell_type": "markdown",
   "metadata": {
    "heading_collapsed": true
   },
   "source": [
    "# neighboring genes example"
   ]
  },
  {
   "cell_type": "markdown",
   "metadata": {
    "hidden": true
   },
   "source": [
    "## Nanopore data (FLEP-seq)"
   ]
  },
  {
   "cell_type": "code",
   "execution_count": 167,
   "metadata": {
    "execution": {
     "iopub.execute_input": "2021-05-27T07:28:40.205172Z",
     "iopub.status.busy": "2021-05-27T07:28:40.204719Z",
     "iopub.status.idle": "2021-05-27T07:28:46.314250Z",
     "shell.execute_reply": "2021-05-27T07:28:46.313422Z",
     "shell.execute_reply.started": "2021-05-27T07:28:40.205116Z"
    },
    "hidden": true
   },
   "outputs": [
    {
     "name": "stdout",
     "output_type": "stream",
     "text": [
      "n = 205\n",
      "n = 164\n"
     ]
    },
    {
     "data": {
      "image/png": "[encoded data removed]",
      "text/plain": [
       "<Figure size 288x288 with 3 Axes>"
      ]
     },
     "metadata": {
      "image/png": {
       "height": 277,
       "width": 276
      },
      "needs_background": "light"
     },
     "output_type": "display_data"
    }
   ],
   "source": [
    "chrom, start, end, strand = '4', 15881198, 15887199, '+'\n",
    "\n",
    "igv_plot = igv.IGV(chrom, start, end, strand=strand)\n",
    "\n",
    "araport11_isoform_path = '/public/home/mowp/db/Arabidopsis_thaliana/representative_gene_model/araport11.representative.gene_model.bed.gz'\n",
    "igv_plot.add_gene_model(\n",
    "    araport11_isoform_path,\n",
    ")\n",
    "\n",
    "infile = '/public/home/mowp/workspace/termination/cbRNA_pool/elongating_data/cbRNA.elongating.bam'\n",
    "igv_plot.add_bam(\n",
    "    infile,\n",
    "    method='3_end',\n",
    "    gene_list={'AT4G32910'},\n",
    ")\n",
    "\n",
    "infile = '/public/home/mowp/workspace/termination/cbRNA_pool/elongating_data/cbRNA.elongating.bam'\n",
    "igv_plot.add_bam(\n",
    "    infile,\n",
    "    method='3_end',\n",
    "    gene_list={'AT4G32915'},\n",
    ")\n",
    "\n",
    "igv_plot.plot(\n",
    "    height=4, width=4, \n",
    "    gene_track_height=1,\n",
    "    #polya_site='/public/home/mowp/workspace/termination/cbRNA_pool/polya_sites/cbRNA.last_polya_cluster_summit.bed.gz'\n",
    ")\n",
    "plt.tight_layout()\n",
    "plt.savefig('a.svg')\n",
    "\n",
    "for bam_list in igv_plot.bam_list:\n",
    "    print(f'n = {len(bam_list)}')"
   ]
  },
  {
   "cell_type": "markdown",
   "metadata": {
    "hidden": true
   },
   "source": [
    "## Illumina data (GRO-seq)"
   ]
  },
  {
   "cell_type": "code",
   "execution_count": 170,
   "metadata": {
    "execution": {
     "iopub.execute_input": "2021-05-27T07:44:21.798952Z",
     "iopub.status.busy": "2021-05-27T07:44:21.798304Z",
     "iopub.status.idle": "2021-05-27T07:44:29.197957Z",
     "shell.execute_reply": "2021-05-27T07:44:29.197134Z",
     "shell.execute_reply.started": "2021-05-27T07:44:21.798870Z"
    },
    "hidden": true,
    "scrolled": true
   },
   "outputs": [
    {
     "name": "stdout",
     "output_type": "stream",
     "text": [
      "n = 903\n"
     ]
    },
    {
     "data": {
      "image/png": "[encoded data removed]",
      "text/plain": [
       "<Figure size 288x288 with 2 Axes>"
      ]
     },
     "metadata": {
      "image/png": {
       "height": 277,
       "width": 276
      },
      "needs_background": "light"
     },
     "output_type": "display_data"
    }
   ],
   "source": [
    "chrom, start, end, strand = '4', 15881198, 15887199, '+'\n",
    "\n",
    "igv_plot = igv.IGV(chrom, start, end, strand=strand)\n",
    "\n",
    "araport11_isoform_path = '/public/home/mowp/db/Arabidopsis_thaliana/representative_gene_model/araport11.representative.gene_model.bed.gz'\n",
    "igv_plot.add_gene_model(\n",
    "    araport11_isoform_path,\n",
    ")\n",
    "\n",
    "infile = '/public/home/lab-zhai/edit_share/jbrowse/tair10/Kindgren_2019_GSE131733/s01_WT_RT_rep1/aligned_data/s01_WT_RT_rep1.bam'\n",
    "igv_plot.add_bam(\n",
    "    infile,\n",
    ")\n",
    "\n",
    "igv_plot.plot(\n",
    "    height=4, width=4, \n",
    "    gene_track_height=.5,\n",
    "    #polya_site='/public/home/mowp/workspace/termination/cbRNA_pool/polya_sites/cbRNA.last_polya_cluster_summit.bed.gz'\n",
    ")\n",
    "plt.tight_layout()\n",
    "plt.savefig('a.svg')\n",
    "\n",
    "for bam_list in igv_plot.bam_list:\n",
    "    print(f'n = {len(bam_list)}')"
   ]
  },
  {
   "cell_type": "markdown",
   "metadata": {
    "hidden": true
   },
   "source": [
    "## Comparation "
   ]
  },
  {
   "cell_type": "code",
   "execution_count": 10,
   "metadata": {
    "ExecuteTime": {
     "end_time": "2021-06-25T01:18:30.660577Z",
     "start_time": "2021-06-25T01:18:16.598236Z"
    },
    "execution": {
     "iopub.execute_input": "2021-05-27T07:28:40.205172Z",
     "iopub.status.busy": "2021-05-27T07:28:40.204719Z",
     "iopub.status.idle": "2021-05-27T07:28:46.314250Z",
     "shell.execute_reply": "2021-05-27T07:28:46.313422Z",
     "shell.execute_reply.started": "2021-05-27T07:28:40.205116Z"
    },
    "hidden": true
   },
   "outputs": [
    {
     "name": "stdout",
     "output_type": "stream",
     "text": [
      "n = 205\n",
      "n = 164\n",
      "n = 903\n"
     ]
    },
    {
     "data": {
      "image/png": "[encoded data removed]",
      "text/plain": [
       "<Figure size 288x288 with 4 Axes>"
      ]
     },
     "metadata": {
      "image/png": {
       "height": 277,
       "width": 276
      },
      "needs_background": "light"
     },
     "output_type": "display_data"
    }
   ],
   "source": [
    "chrom, start, end, strand = '4', 15881198, 15887199, '+'\n",
    "\n",
    "igv_plot = igv.IGV(chrom, start, end, strand=strand)\n",
    "\n",
    "araport11_isoform_path = '/public/home/mowp/db/Arabidopsis_thaliana/representative_gene_model/araport11.representative.gene_model.bed.gz'\n",
    "igv_plot.add_gene_model(\n",
    "    araport11_isoform_path,\n",
    ")\n",
    "\n",
    "infile = '/public/home/mowp/workspace/termination/cbRNA_pool/elongating_data/cbRNA.elongating.bam'\n",
    "igv_plot.add_bam(\n",
    "    infile,\n",
    "    method='3_end',\n",
    "    gene_list={'AT4G32910'},\n",
    ")\n",
    "\n",
    "infile = '/public/home/mowp/workspace/termination/cbRNA_pool/elongating_data/cbRNA.elongating.bam'\n",
    "igv_plot.add_bam(\n",
    "    infile,\n",
    "    method='3_end',\n",
    "    gene_list={'AT4G32915'},\n",
    ")\n",
    "\n",
    "\n",
    "infile = '/public/home/lab-zhai/edit_share/jbrowse/tair10/Kindgren_2019_GSE131733/s01_WT_RT_rep1/aligned_data/s01_WT_RT_rep1.bam'\n",
    "igv_plot.add_bam(\n",
    "    infile,\n",
    ")\n",
    "\n",
    "igv_plot.plot(\n",
    "    height=4, width=4, \n",
    "    gene_track_height=1.2,\n",
    "    #polya_site='/public/home/mowp/workspace/termination/cbRNA_pool/polya_sites/cbRNA.last_polya_cluster_summit.bed.gz'\n",
    ")\n",
    "\n",
    "plt.tight_layout()\n",
    "plt.savefig('a.svg')\n",
    "\n",
    "for bam_list in igv_plot.bam_list:\n",
    "    print(f'n = {len(bam_list)}')"
   ]
  },
  {
   "cell_type": "code",
   "execution_count": null,
   "metadata": {
    "hidden": true
   },
   "outputs": [],
   "source": []
  },
  {
   "cell_type": "markdown",
   "metadata": {
    "heading_collapsed": true
   },
   "source": [
    "# tRNA gene downstream examples"
   ]
  },
  {
   "cell_type": "markdown",
   "metadata": {
    "hidden": true
   },
   "source": [
    "## AT4G36195"
   ]
  },
  {
   "cell_type": "code",
   "execution_count": 307,
   "metadata": {
    "execution": {
     "iopub.execute_input": "2021-05-28T13:46:48.054295Z",
     "iopub.status.busy": "2021-05-28T13:46:48.054016Z",
     "iopub.status.idle": "2021-05-28T13:46:51.800522Z",
     "shell.execute_reply": "2021-05-28T13:46:51.799857Z",
     "shell.execute_reply.started": "2021-05-28T13:46:48.054262Z"
    },
    "hidden": true
   },
   "outputs": [
    {
     "name": "stdout",
     "output_type": "stream",
     "text": [
      "n = 100\n"
     ]
    },
    {
     "data": {
      "image/png": "[encoded data removed]",
      "text/plain": [
       "<Figure size 216x216 with 2 Axes>"
      ]
     },
     "metadata": {
      "image/png": {
       "height": 195,
       "width": 209
      },
      "needs_background": "light"
     },
     "output_type": "display_data"
    }
   ],
   "source": [
    "# get gene info\n",
    "gene_id = 'AT4G36195'\n",
    "chrom, start, end, mRNA_id, _, strand, *_ = araport11_isoform.loc[gene_id]\n",
    "gene_id, chrom, pas, strand, tw_len, max_tw_len, start, end = output_res.query('gene_id == @gene_id').values[0]\n",
    "if strand == '+':\n",
    "    end = pas+500\n",
    "else:\n",
    "    start = pas-500\n",
    "\n",
    "# plotting\n",
    "igv_plot = igv.IGV(chrom, start, end, strand=strand)\n",
    "\n",
    "araport11_isoform_path = '/public/home/mowp/db/Arabidopsis_thaliana/representative_gene_model/araport11.representative.gene_model.bed.gz'\n",
    "igv_plot.add_gene_model(\n",
    "    araport11_isoform_path,\n",
    "    gene_list = {mRNA_id, 'AT4G36197.1'},\n",
    ")\n",
    "\n",
    "infile = '/public/home/mowp/workspace/termination/cbRNA_pool/elongating_data/cbRNA.elongating.bam'\n",
    "if strand == '-':\n",
    "    igv_plot.add_bam(\n",
    "        infile,\n",
    "        gene_list = {gene_id, 'None'},\n",
    "        method='3_end',\n",
    "        filter_strand = strand,\n",
    "        start_before=pas-50,\n",
    "    )\n",
    "\n",
    "else:\n",
    "    igv_plot.add_bam(\n",
    "        infile,\n",
    "        gene_list = {gene_id, 'None'},\n",
    "        method='3_end',\n",
    "        filter_strand = strand,\n",
    "        end_after = pas+50\n",
    "    )\n",
    "\n",
    "ax = igv_plot.plot(\n",
    "    height=3, width=3,\n",
    "    # polya_site='/public/home/mowp/workspace/termination/cbRNA_pool/polya_sites/cbRNA.last_polya_cluster_summit.bed.gz',\n",
    "    extend_xlim_end=True,\n",
    "    gene_track_height=1\n",
    ")\n",
    "xlim = plt.xlim()\n",
    "if strand == '-':\n",
    "    xlim = plt.xlim(xlim[0], min(igv_plot.bam_list[0]['start']))\n",
    "else:\n",
    "    xlim = plt.xlim(xlim[0], max(igv_plot.bam_list[0]['end']))\n",
    "    \n",
    "ax[0].axvline(pas, ls=\"--\", color=\"#555555\")\n",
    "ax[0].axvline(xlim[1], ls=\"--\", color=\"#555555\")\n",
    "plt.savefig(f'{gene_id}.all.svg')\n",
    "\n",
    "for bam_list in igv_plot.bam_list:\n",
    "    print(f'n = {len(bam_list)}')"
   ]
  },
  {
   "cell_type": "code",
   "execution_count": 308,
   "metadata": {
    "execution": {
     "iopub.execute_input": "2021-05-28T13:46:51.801960Z",
     "iopub.status.busy": "2021-05-28T13:46:51.801742Z",
     "iopub.status.idle": "2021-05-28T13:46:56.885058Z",
     "shell.execute_reply": "2021-05-28T13:46:56.884329Z",
     "shell.execute_reply.started": "2021-05-28T13:46:51.801930Z"
    },
    "hidden": true
   },
   "outputs": [
    {
     "name": "stdout",
     "output_type": "stream",
     "text": [
      "n = 100\n",
      "n = 100\n"
     ]
    },
    {
     "data": {
      "image/png": "[encoded data removed]",
      "text/plain": [
       "<Figure size 252x216 with 3 Axes>"
      ]
     },
     "metadata": {
      "image/png": {
       "height": 195,
       "width": 1071
      },
      "needs_background": "light"
     },
     "output_type": "display_data"
    }
   ],
   "source": [
    "# get gene info\n",
    "gene_id = 'AT4G36195'\n",
    "chrom, start, end, mRNA_id, _, strand, *_ = araport11_isoform.loc[gene_id]\n",
    "gene_id, chrom, pas, strand, tw_len, max_tw_len, start, end = output_res.query('gene_id == @gene_id').values[0]\n",
    "if strand == '+':\n",
    "    end = pas+500\n",
    "else:\n",
    "    start = pas-500\n",
    "\n",
    "# plotting\n",
    "igv_plot = igv.IGV(chrom, start, end, strand=strand)\n",
    "\n",
    "araport11_isoform_path = '/public/home/mowp/db/Arabidopsis_thaliana/representative_gene_model/araport11.representative.gene_model.bed.gz'\n",
    "igv_plot.add_gene_model(\n",
    "    araport11_isoform_path,\n",
    "    gene_list = {mRNA_id, 'AT4G36197.1'},\n",
    ")\n",
    "\n",
    "infile = '/public/home/mowp/workspace/termination/cbRNA_pool/polyadenylated_data/cbRNA.polyadenylated.bam'\n",
    "if strand == '-':\n",
    "    igv_plot.add_bam(\n",
    "        infile,\n",
    "        gene_list = {gene_id},\n",
    "        method='3_end',\n",
    "        filter_strand = strand,\n",
    "        start_before=pas-50,\n",
    "    )\n",
    "\n",
    "else:\n",
    "    igv_plot.add_bam(\n",
    "        infile,\n",
    "        gene_list = {gene_id, 'None'},\n",
    "        method='3_end',\n",
    "        filter_strand = strand,\n",
    "        end_after = pas+50\n",
    "    )\n",
    "\n",
    "infile = '/public/home/mowp/workspace/termination/cbRNA_pool/elongating_data/cbRNA.elongating.bam'\n",
    "if strand == '-':\n",
    "    igv_plot.add_bam(\n",
    "        infile,\n",
    "        gene_list = {gene_id, 'None'},\n",
    "        method='3_end',\n",
    "        filter_strand = strand,\n",
    "        start_before=pas-50,\n",
    "    )\n",
    "\n",
    "else:\n",
    "    igv_plot.add_bam(\n",
    "        infile,\n",
    "        gene_list = {gene_id, 'None'},\n",
    "        method='3_end',\n",
    "        filter_strand = strand,\n",
    "        end_after = pas+50\n",
    "    )\n",
    "\n",
    "ax = igv_plot.plot(\n",
    "    height=3, width=3.5,\n",
    "    # polya_site='/public/home/mowp/workspace/termination/cbRNA_pool/polya_sites/cbRNA.last_polya_cluster_summit.bed.gz',\n",
    "    extend_xlim_end=True,\n",
    "    gene_track_height=1.5\n",
    ")\n",
    "ax[1].axvline(pas, ls=\"--\", color=\"#555555\")\n",
    "\n",
    "if strand == '-':\n",
    "    xlim = plt.xlim(pas+200, min(igv_plot.bam_list[1]['start']))\n",
    "else:\n",
    "    xlim = plt.xlim(pas-200, max(igv_plot.bam_list[1]['end']))\n",
    "\n",
    "# plt.tight_layout()\n",
    "plt.savefig(f'{gene_id}.partial.svg')\n",
    "\n",
    "for bam_list in igv_plot.bam_list:\n",
    "    print(f'n = {len(bam_list)}')"
   ]
  },
  {
   "cell_type": "markdown",
   "metadata": {
    "hidden": true
   },
   "source": [
    "## AT1G09130"
   ]
  },
  {
   "cell_type": "code",
   "execution_count": 372,
   "metadata": {
    "execution": {
     "iopub.execute_input": "2021-05-30T12:02:53.394688Z",
     "iopub.status.busy": "2021-05-30T12:02:53.394342Z",
     "iopub.status.idle": "2021-05-30T12:02:54.362184Z",
     "shell.execute_reply": "2021-05-30T12:02:54.361600Z",
     "shell.execute_reply.started": "2021-05-30T12:02:53.394646Z"
    },
    "hidden": true
   },
   "outputs": [
    {
     "name": "stdout",
     "output_type": "stream",
     "text": [
      "n = 54\n"
     ]
    },
    {
     "data": {
      "image/png": "[encoded data removed]",
      "text/plain": [
       "<Figure size 216x216 with 2 Axes>"
      ]
     },
     "metadata": {
      "image/png": {
       "height": 195,
       "width": 219
      },
      "needs_background": "light"
     },
     "output_type": "display_data"
    }
   ],
   "source": [
    "# get gene info\n",
    "gene_id = 'AT1G09130'\n",
    "chrom, start, end, mRNA_id, _, strand, *_ = araport11_isoform.loc[gene_id]\n",
    "gene_id, chrom, pas, strand, tw_len, max_tw_len, start, end = output_res.query('gene_id == @gene_id').values[0]\n",
    "if strand == '+':\n",
    "    end = pas+500\n",
    "else:\n",
    "    start = pas-500\n",
    "\n",
    "# plotting\n",
    "igv_plot = igv.IGV(chrom, start, end, strand=strand)\n",
    "\n",
    "araport11_isoform_path = '/public/home/mowp/db/Arabidopsis_thaliana/representative_gene_model/araport11.representative.gene_model.bed.gz'\n",
    "igv_plot.add_gene_model(\n",
    "    araport11_isoform_path,\n",
    "    gene_list = {mRNA_id, 'AT1G09110.1'},\n",
    ")\n",
    "\n",
    "infile = '/public/home/mowp/workspace/termination/cbRNA_pool/elongating_data/cbRNA.elongating.bam'\n",
    "if strand == '-':\n",
    "    igv_plot.add_bam(\n",
    "        infile,\n",
    "        gene_list = {gene_id, 'None'},\n",
    "        method='3_end',\n",
    "        filter_strand = strand,\n",
    "        start_before=pas-50,\n",
    "    )\n",
    "\n",
    "else:\n",
    "    igv_plot.add_bam(\n",
    "        infile,\n",
    "        gene_list = {gene_id, 'None'},\n",
    "        method='3_end',\n",
    "        filter_strand = strand,\n",
    "        end_after = pas+50\n",
    "    )\n",
    "\n",
    "ax = igv_plot.plot(\n",
    "    height=3, width=3,\n",
    "    # polya_site='/public/home/mowp/workspace/termination/cbRNA_pool/polya_sites/cbRNA.last_polya_cluster_summit.bed.gz',\n",
    "    extend_xlim_end=True,\n",
    "    gene_track_height=1\n",
    ")\n",
    "xlim = plt.xlim()\n",
    "if strand == '-':\n",
    "    xlim = plt.xlim(xlim[0], min(igv_plot.bam_list[0]['start']))\n",
    "else:\n",
    "    xlim = plt.xlim(xlim[0], max(igv_plot.bam_list[0]['end']))\n",
    "    \n",
    "ax[0].axvline(pas, ls=\"--\", color=\"#555555\")\n",
    "ax[0].axvline(xlim[1], ls=\"--\", color=\"#555555\")\n",
    "plt.savefig(f'{gene_id}.all.svg')\n",
    "\n",
    "for bam_list in igv_plot.bam_list:\n",
    "    print(f'n = {len(bam_list)}')"
   ]
  },
  {
   "cell_type": "code",
   "execution_count": 370,
   "metadata": {
    "execution": {
     "iopub.execute_input": "2021-05-30T12:02:30.629903Z",
     "iopub.status.busy": "2021-05-30T12:02:30.629628Z",
     "iopub.status.idle": "2021-05-30T12:02:33.304779Z",
     "shell.execute_reply": "2021-05-30T12:02:33.304110Z",
     "shell.execute_reply.started": "2021-05-30T12:02:30.629871Z"
    },
    "hidden": true
   },
   "outputs": [
    {
     "name": "stdout",
     "output_type": "stream",
     "text": [
      "n = 71\n",
      "n = 54\n"
     ]
    },
    {
     "data": {
      "image/png": "[encoded data removed]",
      "text/plain": [
       "<Figure size 252x216 with 3 Axes>"
      ]
     },
     "metadata": {
      "image/png": {
       "height": 180,
       "width": 1372
      },
      "needs_background": "light"
     },
     "output_type": "display_data"
    }
   ],
   "source": [
    "# get gene info\n",
    "gene_id = 'AT1G09130'\n",
    "chrom, start, end, mRNA_id, _, strand, *_ = araport11_isoform.loc[gene_id]\n",
    "gene_id, chrom, pas, strand, tw_len, max_tw_len, start, end = output_res.query('gene_id == @gene_id').values[0]\n",
    "if strand == '+':\n",
    "    end = pas+500\n",
    "else:\n",
    "    start = pas-500\n",
    "\n",
    "# plotting\n",
    "igv_plot = igv.IGV(chrom, start, end, strand=strand)\n",
    "\n",
    "araport11_isoform_path = '/public/home/mowp/db/Arabidopsis_thaliana/representative_gene_model/araport11.representative.gene_model.bed.gz'\n",
    "igv_plot.add_gene_model(\n",
    "    araport11_isoform_path,\n",
    "    gene_list = {mRNA_id, 'AT1G09110.1'},\n",
    ")\n",
    "\n",
    "infile = '/public/home/mowp/workspace/termination/cbRNA_pool/polyadenylated_data/cbRNA.polyadenylated.bam'\n",
    "if strand == '-':\n",
    "    igv_plot.add_bam(\n",
    "        infile,\n",
    "        gene_list = {gene_id},\n",
    "        method='3_end',\n",
    "        filter_strand = strand,\n",
    "        start_before=pas-50,\n",
    "    )\n",
    "\n",
    "else:\n",
    "    igv_plot.add_bam(\n",
    "        infile,\n",
    "        gene_list = {gene_id, 'None'},\n",
    "        method='3_end',\n",
    "        filter_strand = strand,\n",
    "        end_after = pas+50\n",
    "    )\n",
    "\n",
    "infile = '/public/home/mowp/workspace/termination/cbRNA_pool/elongating_data/cbRNA.elongating.bam'\n",
    "if strand == '-':\n",
    "    igv_plot.add_bam(\n",
    "        infile,\n",
    "        gene_list = {gene_id, 'None'},\n",
    "        method='3_end',\n",
    "        filter_strand = strand,\n",
    "        start_before=pas-50,\n",
    "    )\n",
    "\n",
    "else:\n",
    "    igv_plot.add_bam(\n",
    "        infile,\n",
    "        gene_list = {gene_id, 'None'},\n",
    "        method='3_end',\n",
    "        filter_strand = strand,\n",
    "        end_after = pas+50\n",
    "    )\n",
    "\n",
    "ax = igv_plot.plot(\n",
    "    height=3, width=3.5,\n",
    "    # polya_site='/public/home/mowp/workspace/termination/cbRNA_pool/polya_sites/cbRNA.last_polya_cluster_summit.bed.gz',\n",
    "    extend_xlim_end=True,\n",
    "    gene_track_height=1.5\n",
    ")\n",
    "ax[1].axvline(pas, ls=\"--\", color=\"#555555\")\n",
    "\n",
    "if strand == '-':\n",
    "    xlim = plt.xlim(pas+200, min(igv_plot.bam_list[1]['start']))\n",
    "else:\n",
    "    xlim = plt.xlim(pas-200, max(igv_plot.bam_list[1]['end']))\n",
    "\n",
    "# plt.tight_layout()\n",
    "plt.savefig(f'{gene_id}.partial.svg')\n",
    "\n",
    "for bam_list in igv_plot.bam_list:\n",
    "    print(f'n = {len(bam_list)}')"
   ]
  },
  {
   "cell_type": "code",
   "execution_count": 371,
   "metadata": {
    "execution": {
     "iopub.execute_input": "2021-05-30T12:02:40.402362Z",
     "iopub.status.busy": "2021-05-30T12:02:40.402085Z",
     "iopub.status.idle": "2021-05-30T12:02:40.599359Z",
     "shell.execute_reply": "2021-05-30T12:02:40.598618Z",
     "shell.execute_reply.started": "2021-05-30T12:02:40.402323Z"
    },
    "hidden": true
   },
   "outputs": [
    {
     "data": {
      "image/png": "[encoded data removed]",
      "text/plain": [
       "<Figure size 252x72 with 1 Axes>"
      ]
     },
     "metadata": {
      "image/png": {
       "height": 102,
       "width": 224
      },
      "needs_background": "light"
     },
     "output_type": "display_data"
    }
   ],
   "source": [
    "if strand == '-':\n",
    "    readthrough_len = pas - igv_plot.bam_list[1]['start']\n",
    "else:\n",
    "    readthrough_len = igv_plot.bam_list[1]['end'] - pas\n",
    "\n",
    "plt.figure(figsize=(3.5, 1))\n",
    "\n",
    "flierprops = dict(marker='o', markersize=3, markerfacecolor='k', markeredgecolor='none')\n",
    "\n",
    "plt.boxplot(readthrough_len, widths=.3, showfliers = True, flierprops=flierprops, labels=[''], vert=False)\n",
    "plt.xlabel('Readthrough distance (nt)')\n",
    "if strand == '-':\n",
    "    plt.xlim(-200, pas-xlim[1])\n",
    "else:\n",
    "    plt.xlim(-200, xlim[1]-pas)\n",
    "    \n",
    "sns.despine(top=True, right=True, left=True)\n",
    "plt.savefig(f'{gene_id}.boxplot.svg')"
   ]
  },
  {
   "cell_type": "markdown",
   "metadata": {},
   "source": [
    "# cleaved and readthrough transcripts"
   ]
  },
  {
   "cell_type": "markdown",
   "metadata": {
    "heading_collapsed": true
   },
   "source": [
    "## AT2G41430"
   ]
  },
  {
   "cell_type": "markdown",
   "metadata": {
    "hidden": true
   },
   "source": [
    "### xrn3 AT2G41430"
   ]
  },
  {
   "cell_type": "code",
   "execution_count": 47,
   "metadata": {
    "ExecuteTime": {
     "end_time": "2021-06-30T06:17:03.050976Z",
     "start_time": "2021-06-30T06:16:48.162753Z"
    },
    "execution": {
     "iopub.execute_input": "2021-05-28T13:46:51.801960Z",
     "iopub.status.busy": "2021-05-28T13:46:51.801742Z",
     "iopub.status.idle": "2021-05-28T13:46:56.885058Z",
     "shell.execute_reply": "2021-05-28T13:46:56.884329Z",
     "shell.execute_reply.started": "2021-05-28T13:46:51.801930Z"
    },
    "hidden": true,
    "hide_input": false
   },
   "outputs": [
    {
     "name": "stdout",
     "output_type": "stream",
     "text": [
      "n = 166\n",
      "n = 228\n",
      "n = 69\n",
      "n = 655\n"
     ]
    },
    {
     "data": {
      "image/png": "[encoded data removed]",
      "text/plain": [
       "<Figure size 252x288 with 5 Axes>"
      ]
     },
     "metadata": {
      "image/png": {
       "height": 250,
       "width": 226
      },
      "needs_background": "light"
     },
     "output_type": "display_data"
    }
   ],
   "source": [
    "##### get gene info\n",
    "gene_id = 'AT2G41430'\n",
    "chrom, start, end, mRNA_id, _, strand, *_ = araport11_isoform.loc[gene_id]\n",
    "gene_id, chrom, pas, strand, tw_len, max_tw_len, start, end = output_res.query(\n",
    "    'gene_id == @gene_id').values[0]\n",
    "if strand == '+':\n",
    "    end = pas + 200\n",
    "else:\n",
    "    start = pas - 200\n",
    "\n",
    "# plotting\n",
    "igv_plot = igv.IGV(chrom, start, end, strand=strand)\n",
    "\n",
    "araport11_isoform_path = '/public/home/mowp/db/Arabidopsis_thaliana/representative_gene_model/araport11.representative.gene_model.bed.gz'\n",
    "igv_plot.add_gene_model(\n",
    "    araport11_isoform_path,\n",
    "    gene_list={mRNA_id, 'AT2G41430.1'},\n",
    ")\n",
    "\n",
    "# 1\n",
    "infile = '/public/home/mowp/test/nanopore_test/20210301_xrn3/elongating_data/20210301_xrn3.elongating.bam'\n",
    "if strand == '-':\n",
    "    igv_plot.add_bam(\n",
    "        infile,\n",
    "        gene_list={gene_id, 'None'},\n",
    "        method='3_end',\n",
    "        filter_strand=strand,\n",
    "        start_before=pas - 50,\n",
    "        end_after=pas + 50\n",
    "    )\n",
    "\n",
    "else:\n",
    "    igv_plot.add_bam(infile,\n",
    "                     gene_list={gene_id, 'None'},\n",
    "                     method='3_end',\n",
    "                     filter_strand=strand,\n",
    "                     start_before=pas - 50,\n",
    "                     end_after=pas + 50)\n",
    "    \n",
    "# 2\n",
    "infile = '/public/home/mowp/test/nanopore_test/20210301_xrn3/elongating_data/20210301_xrn3.elongating.bam'\n",
    "if strand == '-':\n",
    "    igv_plot.add_bam(\n",
    "        infile,\n",
    "        # gene_list={gene_id, 'None'},\n",
    "        method='3_end',\n",
    "        filter_strand=strand,\n",
    "        start_before=pas+50,\n",
    "        start_after=pas-50,\n",
    "    )\n",
    "\n",
    "else:\n",
    "    igv_plot.add_bam(infile,\n",
    "                     # gene_list={gene_id, 'None'},\n",
    "                     method='3_end',\n",
    "                     filter_strand=strand,\n",
    "                     end_after=pas-50,\n",
    "                     end_before=pas+50,\n",
    "                    )\n",
    "    \n",
    "# 3\n",
    "infile = '/public/home/mowp/test/nanopore_test/20210301_xrn3/elongating_data/20210301_xrn3.elongating.bam'\n",
    "if strand == '-':\n",
    "    igv_plot.add_bam(\n",
    "        infile,\n",
    "        # gene_list={gene_id, 'None'},\n",
    "        method='3_end',\n",
    "        filter_strand=strand,\n",
    "        end_before=pas,\n",
    "    )\n",
    "\n",
    "else:\n",
    "    igv_plot.add_bam(infile,\n",
    "                     # gene_list={gene_id, 'None'},\n",
    "                     method='3_end',\n",
    "                     filter_strand=strand,\n",
    "                     start_after=pas)\n",
    "\n",
    "# 4\n",
    "infile = '/public/home/mowp/test/nanopore_test/20210301_xrn3/polyadenylated_data/20210301_xrn3.polyadenylated.bam'\n",
    "if strand == '-':\n",
    "    igv_plot.add_bam(\n",
    "        infile,\n",
    "        gene_list={gene_id},\n",
    "        method='3_end',\n",
    "        filter_strand=strand,\n",
    "        start_before=pas - 50,\n",
    "    )\n",
    "\n",
    "else:\n",
    "    igv_plot.add_bam(infile,\n",
    "                     gene_list={gene_id, 'None'},\n",
    "                     method='3_end',\n",
    "                     filter_strand=strand,\n",
    "                     end_after=pas + 50)\n",
    "\n",
    "ax = igv_plot.plot(\n",
    "    height=4,\n",
    "    width=3.5,\n",
    "    # polya_site='/public/home/mowp/workspace/termination/cbRNA_pool/polya_sites/cbRNA.last_polya_cluster_summit.bed.gz',\n",
    "    extend_xlim_end=True,\n",
    "    gene_track_height=2)\n",
    "\n",
    "ax[1].axvline(pas, ls=\"--\", color=\"#555555\")\n",
    "ax[2].axvline(pas, ls=\"--\", color=\"#555555\")\n",
    "ax[3].axvline(pas, ls=\"--\", color=\"#555555\")\n",
    "ax[4].axvline(pas, ls=\"--\", color=\"#555555\")\n",
    "xlim = plt.xlim()\n",
    "\n",
    "# if strand == '-':\n",
    "#     xlim = plt.xlim(pas + 200, min(igv_plot.bam_list[1]['start']))\n",
    "# else:\n",
    "#     xlim = plt.xlim(pas - 200, max(igv_plot.bam_list[1]['end']))\n",
    "\n",
    "# ax[0].axvline(pas, ls=\"--\", color=\"#555555\")\n",
    "# ax[0].axvline(xlim[1], ls=\"--\", color=\"#555555\")\n",
    "\n",
    "# plt.tight_layout()\n",
    "plt.savefig(f'{gene_id}.all.svg')\n",
    "\n",
    "for bam_list in igv_plot.bam_list:\n",
    "    print(f'n = {len(bam_list)}')"
   ]
  },
  {
   "cell_type": "code",
   "execution_count": 48,
   "metadata": {
    "ExecuteTime": {
     "end_time": "2021-06-30T06:29:45.646910Z",
     "start_time": "2021-06-30T06:29:45.611444Z"
    },
    "hidden": true
   },
   "outputs": [
    {
     "data": {
      "text/plain": [
       "(17269157.0, 17272759.0)"
      ]
     },
     "execution_count": 48,
     "metadata": {},
     "output_type": "execute_result"
    }
   ],
   "source": [
    "xlim"
   ]
  },
  {
   "cell_type": "markdown",
   "metadata": {
    "heading_collapsed": true,
    "hidden": true
   },
   "source": [
    "### WT AT2G41430"
   ]
  },
  {
   "cell_type": "code",
   "execution_count": 51,
   "metadata": {
    "ExecuteTime": {
     "end_time": "2021-06-30T06:46:08.060545Z",
     "start_time": "2021-06-30T06:45:13.539247Z"
    },
    "execution": {
     "iopub.execute_input": "2021-05-28T13:46:51.801960Z",
     "iopub.status.busy": "2021-05-28T13:46:51.801742Z",
     "iopub.status.idle": "2021-05-28T13:46:56.885058Z",
     "shell.execute_reply": "2021-05-28T13:46:56.884329Z",
     "shell.execute_reply.started": "2021-05-28T13:46:51.801930Z"
    },
    "hidden": true
   },
   "outputs": [
    {
     "name": "stdout",
     "output_type": "stream",
     "text": [
      "n = 505\n",
      "n = 935\n",
      "n = 3\n",
      "n = 2659\n"
     ]
    },
    {
     "data": {
      "image/png": "[encoded data removed]",
      "text/plain": [
       "<Figure size 252x288 with 5 Axes>"
      ]
     },
     "metadata": {
      "image/png": {
       "height": 250,
       "width": 220
      },
      "needs_background": "light"
     },
     "output_type": "display_data"
    }
   ],
   "source": [
    "# get gene info\n",
    "gene_id = 'AT2G41430'\n",
    "chrom, start, end, mRNA_id, _, strand, *_ = araport11_isoform.loc[gene_id]\n",
    "gene_id, chrom, pas, strand, tw_len, max_tw_len, start, end = output_res.query(\n",
    "    'gene_id == @gene_id').values[0]\n",
    "if strand == '+':\n",
    "    end = pas + 200\n",
    "else:\n",
    "    start = pas - 200\n",
    "\n",
    "# plotting\n",
    "igv_plot = igv.IGV(chrom, start, end, strand=strand)\n",
    "\n",
    "araport11_isoform_path = '/public/home/mowp/db/Arabidopsis_thaliana/representative_gene_model/araport11.representative.gene_model.bed.gz'\n",
    "igv_plot.add_gene_model(\n",
    "    araport11_isoform_path,\n",
    "    gene_list={mRNA_id, 'AT2G41430.1'},\n",
    ")\n",
    "\n",
    "# 1\n",
    "infile = '/public/home/mowp/test/nanopore_test/20210324_col_nuclear/elongating_data/20210324_col_nuclear.elongating.bam'\n",
    "if strand == '-':\n",
    "    igv_plot.add_bam(\n",
    "        infile,\n",
    "        gene_list={gene_id, 'None'},\n",
    "        method='3_end',\n",
    "        filter_strand=strand,\n",
    "        start_before=pas - 50,\n",
    "        end_after=pas + 50\n",
    "    )\n",
    "\n",
    "else:\n",
    "    igv_plot.add_bam(infile,\n",
    "                     gene_list={gene_id, 'None'},\n",
    "                     method='3_end',\n",
    "                     filter_strand=strand,\n",
    "                     start_before=pas - 50,\n",
    "                     end_after=pas + 50)\n",
    "    \n",
    "    \n",
    "# 2\n",
    "infile = '/public/home/mowp/test/nanopore_test/20210324_col_nuclear/elongating_data/20210324_col_nuclear.elongating.bam'\n",
    "if strand == '-':\n",
    "    igv_plot.add_bam(\n",
    "        infile,\n",
    "        # gene_list={gene_id, 'None'},\n",
    "        method='3_end',\n",
    "        filter_strand=strand,\n",
    "        start_before=pas+50,\n",
    "        start_after=pas-50,\n",
    "    )\n",
    "\n",
    "else:\n",
    "    igv_plot.add_bam(infile,\n",
    "                     # gene_list={gene_id, 'None'},\n",
    "                     method='3_end',\n",
    "                     filter_strand=strand,\n",
    "                     end_after=pas-50,\n",
    "                     end_before=pas+50,\n",
    "                    )\n",
    "\n",
    "# 3\n",
    "infile = '/public/home/mowp/test/nanopore_test/20210324_col_nuclear/elongating_data/20210324_col_nuclear.elongating.bam'\n",
    "if strand == '-':\n",
    "    igv_plot.add_bam(\n",
    "        infile,\n",
    "        # gene_list={gene_id, 'None'},\n",
    "        method='3_end',\n",
    "        filter_strand=strand,\n",
    "        end_before=pas,\n",
    "    )\n",
    "\n",
    "else:\n",
    "    igv_plot.add_bam(infile,\n",
    "                     # gene_list={gene_id, 'None'},\n",
    "                     method='3_end',\n",
    "                     filter_strand=strand,\n",
    "                     start_after=pas)\n",
    "\n",
    "# 4\n",
    "infile = '/public/home/mowp/test/nanopore_test/20210324_col_nuclear/polyadenylated_data/20210324_col_nuclear.polyadenylated.bam'\n",
    "if strand == '-':\n",
    "    igv_plot.add_bam(\n",
    "        infile,\n",
    "        gene_list={gene_id},\n",
    "        method='3_end',\n",
    "        filter_strand=strand,\n",
    "        start_before=pas - 50,\n",
    "    )\n",
    "\n",
    "else:\n",
    "    igv_plot.add_bam(infile,\n",
    "                     gene_list={gene_id, 'None'},\n",
    "                     method='3_end',\n",
    "                     filter_strand=strand,\n",
    "                     end_after=pas + 50)\n",
    "\n",
    "ax = igv_plot.plot(\n",
    "    height=4,\n",
    "    width=3.5,\n",
    "    # polya_site='/public/home/mowp/workspace/termination/cbRNA_pool/polya_sites/cbRNA.last_polya_cluster_summit.bed.gz',\n",
    "    extend_xlim_end=True,\n",
    "    gene_track_height=2)\n",
    "\n",
    "# if strand == '-':\n",
    "#     xlim = plt.xlim(pas + 200, min(igv_plot.bam_list[1]['start']))\n",
    "# else:\n",
    "#     xlim = plt.xlim(pas - 200, max(igv_plot.bam_list[1]['end']))\n",
    "\n",
    "ax[1].axvline(pas, ls=\"--\", color=\"#555555\")\n",
    "ax[2].axvline(pas, ls=\"--\", color=\"#555555\")\n",
    "ax[3].axvline(pas, ls=\"--\", color=\"#555555\")\n",
    "ax[4].axvline(pas, ls=\"--\", color=\"#555555\")\n",
    "plt.xlim(xlim)\n",
    "\n",
    "# plt.tight_layout()\n",
    "plt.savefig(f'{gene_id}.all.svg')\n",
    "\n",
    "for bam_list in igv_plot.bam_list:\n",
    "    print(f'n = {len(bam_list)}')"
   ]
  },
  {
   "cell_type": "markdown",
   "metadata": {
    "heading_collapsed": true
   },
   "source": [
    "## AT5G06320"
   ]
  },
  {
   "cell_type": "markdown",
   "metadata": {
    "heading_collapsed": true,
    "hidden": true
   },
   "source": [
    "### xrn3 AT5G06320"
   ]
  },
  {
   "cell_type": "code",
   "execution_count": 54,
   "metadata": {
    "ExecuteTime": {
     "end_time": "2021-06-30T10:02:51.134700Z",
     "start_time": "2021-06-30T10:02:44.239369Z"
    },
    "execution": {
     "iopub.execute_input": "2021-05-28T13:46:51.801960Z",
     "iopub.status.busy": "2021-05-28T13:46:51.801742Z",
     "iopub.status.idle": "2021-05-28T13:46:56.885058Z",
     "shell.execute_reply": "2021-05-28T13:46:56.884329Z",
     "shell.execute_reply.started": "2021-05-28T13:46:51.801930Z"
    },
    "hidden": true,
    "hide_input": false
   },
   "outputs": [
    {
     "name": "stdout",
     "output_type": "stream",
     "text": [
      "n = 91\n",
      "n = 103\n",
      "n = 56\n",
      "n = 202\n"
     ]
    },
    {
     "data": {
      "image/png": "[encoded data removed]",
      "text/plain": [
       "<Figure size 252x288 with 5 Axes>"
      ]
     },
     "metadata": {
      "image/png": {
       "height": 250,
       "width": 224
      },
      "needs_background": "light"
     },
     "output_type": "display_data"
    }
   ],
   "source": [
    "##### get gene info\n",
    "gene_id = 'AT5G06320'\n",
    "chrom, start, end, mRNA_id, _, strand, *_ = araport11_isoform.loc[gene_id]\n",
    "gene_id, chrom, pas, strand, tw_len, max_tw_len, start, end = output_res.query(\n",
    "    'gene_id == @gene_id').values[0]\n",
    "if strand == '+':\n",
    "    end = pas + 200\n",
    "else:\n",
    "    start = pas - 200\n",
    "\n",
    "# plotting\n",
    "igv_plot = igv.IGV(chrom, start, end, strand=strand)\n",
    "\n",
    "araport11_isoform_path = '/public/home/mowp/db/Arabidopsis_thaliana/representative_gene_model/araport11.representative.gene_model.bed.gz'\n",
    "igv_plot.add_gene_model(\n",
    "    araport11_isoform_path,\n",
    "    gene_list={mRNA_id, 'AT5G06320.1'},\n",
    ")\n",
    "\n",
    "# 1\n",
    "infile = '/public/home/mowp/test/nanopore_test/20210301_xrn3/elongating_data/20210301_xrn3.elongating.bam'\n",
    "if strand == '-':\n",
    "    igv_plot.add_bam(\n",
    "        infile,\n",
    "        gene_list={gene_id, 'None'},\n",
    "        method='3_end',\n",
    "        filter_strand=strand,\n",
    "        start_before=pas - 50,\n",
    "        end_after=pas + 50\n",
    "    )\n",
    "\n",
    "else:\n",
    "    igv_plot.add_bam(infile,\n",
    "                     gene_list={gene_id, 'None'},\n",
    "                     method='3_end',\n",
    "                     filter_strand=strand,\n",
    "                     start_before=pas - 50,\n",
    "                     end_after=pas + 50)\n",
    "    \n",
    "# 2\n",
    "infile = '/public/home/mowp/test/nanopore_test/20210301_xrn3/elongating_data/20210301_xrn3.elongating.bam'\n",
    "if strand == '-':\n",
    "    igv_plot.add_bam(\n",
    "        infile,\n",
    "        # gene_list={gene_id, 'None'},\n",
    "        method='3_end',\n",
    "        filter_strand=strand,\n",
    "        start_before=pas+50,\n",
    "        start_after=pas-50,\n",
    "    )\n",
    "\n",
    "else:\n",
    "    igv_plot.add_bam(infile,\n",
    "                     # gene_list={gene_id, 'None'},\n",
    "                     method='3_end',\n",
    "                     filter_strand=strand,\n",
    "                     end_after=pas-50,\n",
    "                     end_before=pas+50,\n",
    "                    )\n",
    "    \n",
    "# 3\n",
    "infile = '/public/home/mowp/test/nanopore_test/20210301_xrn3/elongating_data/20210301_xrn3.elongating.bam'\n",
    "if strand == '-':\n",
    "    igv_plot.add_bam(\n",
    "        infile,\n",
    "        # gene_list={gene_id, 'None'},\n",
    "        method='3_end',\n",
    "        filter_strand=strand,\n",
    "        end_before=pas,\n",
    "    )\n",
    "\n",
    "else:\n",
    "    igv_plot.add_bam(infile,\n",
    "                     # gene_list={gene_id, 'None'},\n",
    "                     method='3_end',\n",
    "                     filter_strand=strand,\n",
    "                     start_after=pas)\n",
    "\n",
    "# 4\n",
    "infile = '/public/home/mowp/test/nanopore_test/20210301_xrn3/polyadenylated_data/20210301_xrn3.polyadenylated.bam'\n",
    "if strand == '-':\n",
    "    igv_plot.add_bam(\n",
    "        infile,\n",
    "        gene_list={gene_id},\n",
    "        method='3_end',\n",
    "        filter_strand=strand,\n",
    "        start_before=pas - 50,\n",
    "    )\n",
    "\n",
    "else:\n",
    "    igv_plot.add_bam(infile,\n",
    "                     gene_list={gene_id, 'None'},\n",
    "                     method='3_end',\n",
    "                     filter_strand=strand,\n",
    "                     end_after=pas + 50)\n",
    "\n",
    "ax = igv_plot.plot(\n",
    "    height=4,\n",
    "    width=3.5,\n",
    "    # polya_site='/public/home/mowp/workspace/termination/cbRNA_pool/polya_sites/cbRNA.last_polya_cluster_summit.bed.gz',\n",
    "    extend_xlim_end=True,\n",
    "    gene_track_height=2)\n",
    "\n",
    "ax[1].axvline(pas, ls=\"--\", color=\"#555555\")\n",
    "ax[2].axvline(pas, ls=\"--\", color=\"#555555\")\n",
    "ax[3].axvline(pas, ls=\"--\", color=\"#555555\")\n",
    "ax[4].axvline(pas, ls=\"--\", color=\"#555555\")\n",
    "xlim = plt.xlim()\n",
    "\n",
    "# if strand == '-':\n",
    "#     xlim = plt.xlim(pas + 200, min(igv_plot.bam_list[1]['start']))\n",
    "# else:\n",
    "#     xlim = plt.xlim(pas - 200, max(igv_plot.bam_list[1]['end']))\n",
    "\n",
    "# ax[0].axvline(pas, ls=\"--\", color=\"#555555\")\n",
    "# ax[0].axvline(xlim[1], ls=\"--\", color=\"#555555\")\n",
    "\n",
    "# plt.tight_layout()\n",
    "plt.savefig(f'{gene_id}.all.svg')\n",
    "\n",
    "for bam_list in igv_plot.bam_list:\n",
    "    print(f'n = {len(bam_list)}')"
   ]
  },
  {
   "cell_type": "code",
   "execution_count": 47,
   "metadata": {
    "ExecuteTime": {
     "end_time": "2021-06-20T08:06:45.644790Z",
     "start_time": "2021-06-20T08:06:45.635320Z"
    },
    "hidden": true
   },
   "outputs": [
    {
     "data": {
      "text/plain": [
       "(1931029.0, 1929353.0)"
      ]
     },
     "execution_count": 47,
     "metadata": {},
     "output_type": "execute_result"
    }
   ],
   "source": [
    "xlim"
   ]
  },
  {
   "cell_type": "markdown",
   "metadata": {
    "heading_collapsed": true,
    "hidden": true
   },
   "source": [
    "### WT AT5G06320"
   ]
  },
  {
   "cell_type": "code",
   "execution_count": 55,
   "metadata": {
    "ExecuteTime": {
     "end_time": "2021-06-30T10:12:22.965228Z",
     "start_time": "2021-06-30T10:12:13.815663Z"
    },
    "execution": {
     "iopub.execute_input": "2021-05-28T13:46:51.801960Z",
     "iopub.status.busy": "2021-05-28T13:46:51.801742Z",
     "iopub.status.idle": "2021-05-28T13:46:56.885058Z",
     "shell.execute_reply": "2021-05-28T13:46:56.884329Z",
     "shell.execute_reply.started": "2021-05-28T13:46:51.801930Z"
    },
    "hidden": true,
    "hide_input": false,
    "scrolled": true
   },
   "outputs": [
    {
     "name": "stdout",
     "output_type": "stream",
     "text": [
      "n = 254\n",
      "n = 244\n",
      "n = 2\n",
      "n = 425\n"
     ]
    },
    {
     "data": {
      "image/png": "[encoded data removed]",
      "text/plain": [
       "<Figure size 252x288 with 5 Axes>"
      ]
     },
     "metadata": {
      "image/png": {
       "height": 250,
       "width": 213
      },
      "needs_background": "light"
     },
     "output_type": "display_data"
    }
   ],
   "source": [
    "##### get gene info\n",
    "gene_id = 'AT5G06320'\n",
    "chrom, start, end, mRNA_id, _, strand, *_ = araport11_isoform.loc[gene_id]\n",
    "gene_id, chrom, pas, strand, tw_len, max_tw_len, start, end = output_res.query(\n",
    "    'gene_id == @gene_id').values[0]\n",
    "if strand == '+':\n",
    "    end = pas + 200\n",
    "else:\n",
    "    start = pas - 200\n",
    "\n",
    "# plotting\n",
    "igv_plot = igv.IGV(chrom, start, end, strand=strand)\n",
    "\n",
    "araport11_isoform_path = '/public/home/mowp/db/Arabidopsis_thaliana/representative_gene_model/araport11.representative.gene_model.bed.gz'\n",
    "igv_plot.add_gene_model(\n",
    "    araport11_isoform_path,\n",
    "    gene_list={mRNA_id, 'AT2G41430.1'},\n",
    ")\n",
    "\n",
    "# 1\n",
    "infile = '/public/home/mowp/test/nanopore_test/20210324_col_nuclear/elongating_data/20210324_col_nuclear.elongating.bam'\n",
    "if strand == '-':\n",
    "    igv_plot.add_bam(\n",
    "        infile,\n",
    "        gene_list={gene_id, 'None'},\n",
    "        method='3_end',\n",
    "        filter_strand=strand,\n",
    "        start_before=pas - 50,\n",
    "        end_after=pas + 50\n",
    "    )\n",
    "\n",
    "else:\n",
    "    igv_plot.add_bam(infile,\n",
    "                     gene_list={gene_id, 'None'},\n",
    "                     method='3_end',\n",
    "                     filter_strand=strand,\n",
    "                     start_before=pas - 50,\n",
    "                     end_after=pas + 50)\n",
    "    \n",
    "    \n",
    "# 2\n",
    "infile = '/public/home/mowp/test/nanopore_test/20210324_col_nuclear/elongating_data/20210324_col_nuclear.elongating.bam'\n",
    "if strand == '-':\n",
    "    igv_plot.add_bam(\n",
    "        infile,\n",
    "        # gene_list={gene_id, 'None'},\n",
    "        method='3_end',\n",
    "        filter_strand=strand,\n",
    "        start_before=pas+50,\n",
    "        start_after=pas-50,\n",
    "    )\n",
    "\n",
    "else:\n",
    "    igv_plot.add_bam(infile,\n",
    "                     # gene_list={gene_id, 'None'},\n",
    "                     method='3_end',\n",
    "                     filter_strand=strand,\n",
    "                     end_after=pas-50,\n",
    "                     end_before=pas+50,\n",
    "                    )\n",
    "\n",
    "# 3\n",
    "infile = '/public/home/mowp/test/nanopore_test/20210324_col_nuclear/elongating_data/20210324_col_nuclear.elongating.bam'\n",
    "if strand == '-':\n",
    "    igv_plot.add_bam(\n",
    "        infile,\n",
    "        # gene_list={gene_id, 'None'},\n",
    "        method='3_end',\n",
    "        filter_strand=strand,\n",
    "        end_before=pas,\n",
    "    )\n",
    "\n",
    "else:\n",
    "    igv_plot.add_bam(infile,\n",
    "                     # gene_list={gene_id, 'None'},\n",
    "                     method='3_end',\n",
    "                     filter_strand=strand,\n",
    "                     start_after=pas)\n",
    "\n",
    "# 4\n",
    "infile = '/public/home/mowp/test/nanopore_test/20210324_col_nuclear/polyadenylated_data/20210324_col_nuclear.polyadenylated.bam'\n",
    "if strand == '-':\n",
    "    igv_plot.add_bam(\n",
    "        infile,\n",
    "        gene_list={gene_id},\n",
    "        method='3_end',\n",
    "        filter_strand=strand,\n",
    "        start_before=pas - 50,\n",
    "    )\n",
    "\n",
    "else:\n",
    "    igv_plot.add_bam(infile,\n",
    "                     gene_list={gene_id, 'None'},\n",
    "                     method='3_end',\n",
    "                     filter_strand=strand,\n",
    "                     end_after=pas + 50)\n",
    "\n",
    "ax = igv_plot.plot(\n",
    "    height=4,\n",
    "    width=3.5,\n",
    "    # polya_site='/public/home/mowp/workspace/termination/cbRNA_pool/polya_sites/cbRNA.last_polya_cluster_summit.bed.gz',\n",
    "    extend_xlim_end=True,\n",
    "    gene_track_height=2)\n",
    "\n",
    "# if strand == '-':\n",
    "#     xlim = plt.xlim(pas + 200, min(igv_plot.bam_list[1]['start']))\n",
    "# else:\n",
    "#     xlim = plt.xlim(pas - 200, max(igv_plot.bam_list[1]['end']))\n",
    "\n",
    "ax[1].axvline(pas, ls=\"--\", color=\"#555555\")\n",
    "ax[2].axvline(pas, ls=\"--\", color=\"#555555\")\n",
    "ax[3].axvline(pas, ls=\"--\", color=\"#555555\")\n",
    "ax[4].axvline(pas, ls=\"--\", color=\"#555555\")\n",
    "plt.xlim(xlim)\n",
    "\n",
    "# plt.tight_layout()\n",
    "plt.savefig(f'{gene_id}.all.svg')\n",
    "\n",
    "for bam_list in igv_plot.bam_list:\n",
    "    print(f'n = {len(bam_list)}')"
   ]
  },
  {
   "cell_type": "markdown",
   "metadata": {
    "heading_collapsed": true
   },
   "source": [
    "## AT1G73540"
   ]
  },
  {
   "cell_type": "markdown",
   "metadata": {
    "hidden": true
   },
   "source": [
    "### xrn3 AT1G73540"
   ]
  },
  {
   "cell_type": "code",
   "execution_count": 7,
   "metadata": {
    "ExecuteTime": {
     "end_time": "2021-07-14T07:21:22.514807Z",
     "start_time": "2021-07-14T07:20:59.906969Z"
    },
    "execution": {
     "iopub.execute_input": "2021-05-28T13:46:51.801960Z",
     "iopub.status.busy": "2021-05-28T13:46:51.801742Z",
     "iopub.status.idle": "2021-05-28T13:46:56.885058Z",
     "shell.execute_reply": "2021-05-28T13:46:56.884329Z",
     "shell.execute_reply.started": "2021-05-28T13:46:51.801930Z"
    },
    "hidden": true,
    "hide_input": false,
    "scrolled": true
   },
   "outputs": [
    {
     "name": "stdout",
     "output_type": "stream",
     "text": [
      "n = 1585\n",
      "n = 947\n"
     ]
    },
    {
     "data": {
      "image/png": "[encoded data removed]",
      "text/plain": [
       "<Figure size 432x324 with 3 Axes>"
      ]
     },
     "metadata": {
      "image/png": {
       "height": 277,
       "width": 364
      },
      "needs_background": "light"
     },
     "output_type": "display_data"
    }
   ],
   "source": [
    "# get gene info\n",
    "gene_id = 'AT1G73540'\n",
    "chrom, start, end, mRNA_id, _, strand, *_ = araport11_isoform.loc[gene_id]\n",
    "gene_id, chrom, pas, strand, tw_len, max_tw_len, start, end = output_res.query(\n",
    "    'gene_id == @gene_id').values[0]\n",
    "\n",
    "\n",
    "start = 27640985\n",
    "\n",
    "# plotting\n",
    "igv_plot = igv.IGV(chrom, start, end, strand=strand)\n",
    "\n",
    "araport11_isoform_path = '/public/home/mowp/db/Arabidopsis_thaliana/representative_gene_model/araport11.representative.gene_model.bed.gz'\n",
    "igv_plot.add_gene_model(\n",
    "    araport11_isoform_path,\n",
    "    gene_list={mRNA_id, 'AT1G73540.1', 'AT1G73530.1', 'AT1G73510.1'},\n",
    ")\n",
    "\n",
    "# 1\n",
    "infile = '/public/home/mowp/test/nanopore_test/20210301_xrn3/elongating_data/20210301_xrn3.elongating.bam'\n",
    "if strand == '-':\n",
    "    igv_plot.add_bam(\n",
    "        infile,\n",
    "        method='3_end',\n",
    "        filter_strand=strand,\n",
    "        start_before=pas-50,\n",
    "        end_before=end\n",
    "    )\n",
    "\n",
    "#2\n",
    "infile = '/public/home/mowp/test/nanopore_test/20210301_xrn3/polyadenylated_data/20210301_xrn3.polyadenylated.bam'\n",
    "if strand == '-':\n",
    "    igv_plot.add_bam(\n",
    "        infile,\n",
    "        method='3_end',\n",
    "        filter_strand=strand,\n",
    "#         end_before=end\n",
    "    )\n",
    "\n",
    "\n",
    "ax = igv_plot.plot(\n",
    "    height=4.5,\n",
    "    width=6,\n",
    "    polya_site='/public/home/mowp/workspace/termination/cbRNA_pool/polya_sites/cbRNA.last_polya_cluster_summit.bed.gz',\n",
    "    extend_xlim_end=True,\n",
    "    gene_track_height=1)\n",
    "\n",
    "xlim = plt.xlim()\n",
    "# plt.tight_layout()\n",
    "plt.savefig(f'{gene_id}.all.svg')\n",
    "\n",
    "for bam_list in igv_plot.bam_list:\n",
    "    print(f'n = {len(bam_list)}')"
   ]
  },
  {
   "cell_type": "markdown",
   "metadata": {
    "hidden": true
   },
   "source": [
    "### WT AT1G73530"
   ]
  },
  {
   "cell_type": "code",
   "execution_count": 91,
   "metadata": {
    "ExecuteTime": {
     "end_time": "2021-07-12T12:29:45.721737Z",
     "start_time": "2021-07-12T12:29:11.083677Z"
    },
    "execution": {
     "iopub.execute_input": "2021-05-28T13:46:51.801960Z",
     "iopub.status.busy": "2021-05-28T13:46:51.801742Z",
     "iopub.status.idle": "2021-05-28T13:46:56.885058Z",
     "shell.execute_reply": "2021-05-28T13:46:56.884329Z",
     "shell.execute_reply.started": "2021-05-28T13:46:51.801930Z"
    },
    "hidden": true,
    "hide_input": false,
    "scrolled": true
   },
   "outputs": [
    {
     "name": "stdout",
     "output_type": "stream",
     "text": [
      "n = 980\n",
      "n = 1711\n"
     ]
    },
    {
     "data": {
      "image/png": "[encoded data removed]",
      "text/plain": [
       "<Figure size 432x324 with 3 Axes>"
      ]
     },
     "metadata": {
      "image/png": {
       "height": 277,
       "width": 355
      },
      "needs_background": "light"
     },
     "output_type": "display_data"
    }
   ],
   "source": [
    "# get gene info\n",
    "gene_id = 'AT1G73540'\n",
    "chrom, start, end, mRNA_id, _, strand, *_ = araport11_isoform.loc[gene_id]\n",
    "gene_id, chrom, pas, strand, tw_len, max_tw_len, start, end = output_res.query(\n",
    "    'gene_id == @gene_id').values[0]\n",
    "\n",
    "\n",
    "start = 27640985\n",
    "\n",
    "# plotting\n",
    "igv_plot = igv.IGV(chrom, start, end, strand=strand)\n",
    "\n",
    "araport11_isoform_path = '/public/home/mowp/db/Arabidopsis_thaliana/representative_gene_model/araport11.representative.gene_model.bed.gz'\n",
    "igv_plot.add_gene_model(\n",
    "    araport11_isoform_path,\n",
    "    gene_list={mRNA_id, 'AT1G73540.1', 'AT1G73530.1', 'AT1G73510.1'},\n",
    ")\n",
    "\n",
    "# 1\n",
    "infile = '/public/home/mowp/test/nanopore_test/20210301_xrn3/elongating_data/20210301_xrn3.elongating.bam'\n",
    "infile = '/public/home/mowp/test/nanopore_test/20210324_col_nuclear/elongating_data/20210324_col_nuclear.elongating.bam'\n",
    "if strand == '-':\n",
    "    igv_plot.add_bam(\n",
    "        infile,\n",
    "        method='3_end',\n",
    "        filter_strand=strand,\n",
    "        start_before=pas-50,\n",
    "        end_before=end\n",
    "    )\n",
    "\n",
    "#2\n",
    "infile = '/public/home/mowp/test/nanopore_test/20210301_xrn3/polyadenylated_data/20210301_xrn3.polyadenylated.bam'\n",
    "infile = '/public/home/mowp/test/nanopore_test/20210324_col_nuclear/polyadenylated_data/20210324_col_nuclear.polyadenylated.bam'\n",
    "if strand == '-':\n",
    "    igv_plot.add_bam(\n",
    "        infile,\n",
    "        method='3_end',\n",
    "        filter_strand=strand,\n",
    "#         end_before=end\n",
    "    )\n",
    "\n",
    "\n",
    "ax = igv_plot.plot(\n",
    "    height=4.5,\n",
    "    width=6,\n",
    "    polya_site='/public/home/mowp/workspace/termination/cbRNA_pool/polya_sites/cbRNA.last_polya_cluster_summit.bed.gz',\n",
    "    extend_xlim_end=True,\n",
    "    gene_track_height=1)\n",
    "\n",
    "# xlim = plt.xlim()\n",
    "plt.xlim(xlim)\n",
    "# plt.tight_layout()\n",
    "plt.savefig(f'{gene_id}.all.svg')\n",
    "\n",
    "for bam_list in igv_plot.bam_list:\n",
    "    print(f'n = {len(bam_list)}')"
   ]
  },
  {
   "cell_type": "markdown",
   "metadata": {
    "heading_collapsed": true
   },
   "source": [
    "## AT1G76180"
   ]
  },
  {
   "cell_type": "markdown",
   "metadata": {
    "ExecuteTime": {
     "end_time": "2021-07-07T08:18:56.879059Z",
     "start_time": "2021-07-07T08:18:56.753876Z"
    },
    "hidden": true
   },
   "source": [
    "### xrn3 AT1G76180"
   ]
  },
  {
   "cell_type": "code",
   "execution_count": 87,
   "metadata": {
    "ExecuteTime": {
     "end_time": "2021-07-08T06:57:03.392968Z",
     "start_time": "2021-07-08T06:56:44.631118Z"
    },
    "hidden": true
   },
   "outputs": [
    {
     "name": "stdout",
     "output_type": "stream",
     "text": [
      "n = 747\n",
      "n = 632\n"
     ]
    },
    {
     "data": {
      "image/png": "[encoded data removed]",
      "text/plain": [
       "<Figure size 360x324 with 3 Axes>"
      ]
     },
     "metadata": {
      "image/png": {
       "height": 277,
       "width": 305
      },
      "needs_background": "light"
     },
     "output_type": "display_data"
    }
   ],
   "source": [
    "##### get gene info\n",
    "gene_id = 'AT1G76180'\n",
    "chrom, start, end, mRNA_id, _, strand, *_ = araport11_isoform.loc[gene_id]\n",
    "gene_id, chrom, pas, strand, tw_len, max_tw_len, start, end = output_res.query(\n",
    "    'gene_id == @gene_id').values[0]\n",
    "if strand == '+':\n",
    "    end = pas + 200\n",
    "else:\n",
    "    start = pas - 200\n",
    "\n",
    "start = 28581259\n",
    "# plotting\n",
    "igv_plot = igv.IGV(chrom, start, end, strand=strand)\n",
    "\n",
    "araport11_isoform_path = '/public/home/mowp/db/Arabidopsis_thaliana/representative_gene_model/araport11.representative.gene_model.bed.gz'\n",
    "igv_plot.add_gene_model(\n",
    "    araport11_isoform_path,\n",
    "    gene_list={mRNA_id, 'AT1G76180.1', 'AT1G76170.7'},\n",
    ")\n",
    "\n",
    "# 1\n",
    "infile = '/public/home/mowp/test/nanopore_test/20210301_xrn3/elongating_data/20210301_xrn3.elongating.bam'\n",
    "if strand == '-':\n",
    "    igv_plot.add_bam(\n",
    "        infile,\n",
    "        method='3_end',\n",
    "        filter_strand=strand,\n",
    "        start_before=pas - 50,\n",
    "    )\n",
    "    \n",
    "# 2\n",
    "infile = '/public/home/mowp/test/nanopore_test/20210301_xrn3/polyadenylated_data/20210301_xrn3.polyadenylated.bam'\n",
    "if strand == '-':\n",
    "    igv_plot.add_bam(\n",
    "        infile,\n",
    "        method='3_end',\n",
    "        filter_strand=strand,\n",
    "#         start_before=pas - 50,\n",
    "    )\n",
    "    \n",
    "ax = igv_plot.plot(\n",
    "    height=4.5,\n",
    "    width=5,\n",
    "    polya_site='/public/home/mowp/workspace/termination/cbRNA_pool/polya_sites/cbRNA.last_polya_cluster_summit.bed.gz',\n",
    "    extend_xlim_end=True,\n",
    "    gene_track_height=1)\n",
    "\n",
    "# ax[1].axvline(pas, ls=\"--\", color=\"#555555\")\n",
    "\n",
    "xlim = plt.xlim()\n",
    "\n",
    "# plt.tight_layout()\n",
    "plt.savefig(f'{gene_id}.all.svg')\n",
    "\n",
    "for bam_list in igv_plot.bam_list:\n",
    "    print(f'n = {len(bam_list)}')"
   ]
  },
  {
   "cell_type": "code",
   "execution_count": null,
   "metadata": {
    "hidden": true
   },
   "outputs": [],
   "source": []
  },
  {
   "cell_type": "markdown",
   "metadata": {
    "hidden": true
   },
   "source": [
    "### WT AT1G76180"
   ]
  },
  {
   "cell_type": "code",
   "execution_count": 85,
   "metadata": {
    "ExecuteTime": {
     "end_time": "2021-07-08T06:46:06.379967Z",
     "start_time": "2021-07-08T06:45:46.374336Z"
    },
    "hidden": true
   },
   "outputs": [
    {
     "name": "stdout",
     "output_type": "stream",
     "text": [
      "n = 259\n",
      "n = 1173\n"
     ]
    },
    {
     "data": {
      "image/png": "[encoded data removed]",
      "text/plain": [
       "<Figure size 360x324 with 3 Axes>"
      ]
     },
     "metadata": {
      "image/png": {
       "height": 277,
       "width": 305
      },
      "needs_background": "light"
     },
     "output_type": "display_data"
    }
   ],
   "source": [
    "##### get gene info\n",
    "gene_id = 'AT1G76180'\n",
    "chrom, start, end, mRNA_id, _, strand, *_ = araport11_isoform.loc[gene_id]\n",
    "gene_id, chrom, pas, strand, tw_len, max_tw_len, start, end = output_res.query(\n",
    "    'gene_id == @gene_id').values[0]\n",
    "if strand == '+':\n",
    "    end = pas + 200\n",
    "else:\n",
    "    start = pas - 200\n",
    "\n",
    "start = 28581259\n",
    "# plotting\n",
    "igv_plot = igv.IGV(chrom, start, end, strand=strand)\n",
    "\n",
    "araport11_isoform_path = '/public/home/mowp/db/Arabidopsis_thaliana/representative_gene_model/araport11.representative.gene_model.bed.gz'\n",
    "igv_plot.add_gene_model(\n",
    "    araport11_isoform_path,\n",
    "    gene_list={mRNA_id, 'AT1G76180.1', 'AT1G76170.7'},\n",
    ")\n",
    "\n",
    "# 1\n",
    "infile = '/public/home/mowp/test/nanopore_test/20210324_col_nuclear/elongating_data/20210324_col_nuclear.elongating.bam'\n",
    "if strand == '-':\n",
    "    igv_plot.add_bam(\n",
    "        infile,\n",
    "        method='3_end',\n",
    "        filter_strand=strand,\n",
    "        start_before=pas - 50,\n",
    "    )\n",
    "    \n",
    "# 2\n",
    "infile = '/public/home/mowp/test/nanopore_test/20210324_col_nuclear/polyadenylated_data/20210324_col_nuclear.polyadenylated.bam'\n",
    "if strand == '-':\n",
    "    igv_plot.add_bam(\n",
    "        infile,\n",
    "        method='3_end',\n",
    "        filter_strand=strand,\n",
    "#         start_before=pas - 50,\n",
    "    )\n",
    "    \n",
    "ax = igv_plot.plot(\n",
    "    height=4.5,\n",
    "    width=5,\n",
    "    polya_site='/public/home/mowp/workspace/termination/cbRNA_pool/polya_sites/cbRNA.last_polya_cluster_summit.bed.gz',\n",
    "    extend_xlim_end=True,\n",
    "    gene_track_height=1)\n",
    "\n",
    "# ax[1].axvline(pas, ls=\"--\", color=\"#555555\")\n",
    "\n",
    "xlim = plt.xlim()\n",
    "\n",
    "# plt.tight_layout()\n",
    "plt.savefig(f'{gene_id}.all.svg')\n",
    "\n",
    "for bam_list in igv_plot.bam_list:\n",
    "    print(f'n = {len(bam_list)}')"
   ]
  },
  {
   "cell_type": "code",
   "execution_count": null,
   "metadata": {
    "hidden": true
   },
   "outputs": [],
   "source": []
  }
 ],
 "metadata": {
  "kernelspec": {
   "display_name": "Python 3",
   "language": "python",
   "name": "python3"
  },
  "language_info": {
   "codemirror_mode": {
    "name": "ipython",
    "version": 3
   },
   "file_extension": ".py",
   "mimetype": "text/x-python",
   "name": "python",
   "nbconvert_exporter": "python",
   "pygments_lexer": "ipython3",
   "version": "3.8.8"
  },
  "toc": {
   "base_numbering": 1,
   "nav_menu": {},
   "number_sections": true,
   "sideBar": true,
   "skip_h1_title": false,
   "title_cell": "Table of Contents",
   "title_sidebar": "Contents",
   "toc_cell": false,
   "toc_position": {
    "height": "calc(100% - 180px)",
    "left": "10px",
    "top": "150px",
    "width": "276.797px"
   },
   "toc_section_display": true,
   "toc_window_display": true
  },
  "toc-autonumbering": true
 },
 "nbformat": 4,
 "nbformat_minor": 4
}
